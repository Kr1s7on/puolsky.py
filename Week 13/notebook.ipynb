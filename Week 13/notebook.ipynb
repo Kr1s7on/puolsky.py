{
 "cells": [
  {
   "cell_type": "markdown",
   "metadata": {},
   "source": [
    "## Week 13\n",
    "\n",
    "### Functions and Modules"
   ]
  },
  {
   "cell_type": "markdown",
   "metadata": {},
   "source": [
    "#### Funcations"
   ]
  },
  {
   "cell_type": "code",
   "execution_count": 1,
   "metadata": {},
   "outputs": [
    {
     "name": "stdout",
     "output_type": "stream",
     "text": [
      "A\n",
      "B\n",
      "C\n",
      "D\n",
      "E\n"
     ]
    }
   ],
   "source": [
    "def iprint():\n",
    "    print(\"A\")\n",
    "\n",
    "def main():\n",
    "    iprint()\n",
    "    print(\"B\")\n",
    "    print(\"C\")\n",
    "\n",
    "main()\n",
    "print(\"D\")\n",
    "print(\"E\")"
   ]
  },
  {
   "cell_type": "markdown",
   "metadata": {},
   "source": [
    "#### Local / Global variable"
   ]
  },
  {
   "cell_type": "code",
   "execution_count": 2,
   "metadata": {},
   "outputs": [
    {
     "name": "stdout",
     "output_type": "stream",
     "text": [
      "In checkvalue, value =  1\n",
      "value =  1\n"
     ]
    }
   ],
   "source": [
    "def checkvalue():\n",
    "    global value\n",
    "    value = 1\n",
    "    print(\"In checkvalue, value = \", value)\n",
    "\n",
    "checkvalue()\n",
    "print(\"value = \", value)"
   ]
  },
  {
   "cell_type": "markdown",
   "metadata": {},
   "source": [
    "### Extra Practical"
   ]
  },
  {
   "cell_type": "markdown",
   "metadata": {},
   "source": [
    "#### Q1\n",
    "Remove the \" \" when printing ```stringlist```"
   ]
  },
  {
   "cell_type": "code",
   "execution_count": 13,
   "metadata": {},
   "outputs": [
    {
     "name": "stdout",
     "output_type": "stream",
     "text": [
      "hello, world, good\n"
     ]
    }
   ],
   "source": [
    "stringlist = [\"hello\", \"world\", \"good\", \"day\", \"all\"]\n",
    "\n",
    "def string_first_three():\n",
    "    # Join the first three elements with a space and return the result\n",
    "    return ', '.join(stringlist[0:3])\n",
    "\n",
    "print(string_first_three())"
   ]
  },
  {
   "cell_type": "markdown",
   "metadata": {},
   "source": [
    "#### Q2\n",
    "Multiply list by a number"
   ]
  },
  {
   "cell_type": "code",
   "execution_count": 14,
   "metadata": {},
   "outputs": [
    {
     "name": "stdout",
     "output_type": "stream",
     "text": [
      "[9, 18, 27]\n"
     ]
    }
   ],
   "source": [
    "def multiply_number(NumberList, A):\n",
    "    return [element * A for element in NumberList]\n",
    "\n",
    "print(multiply_number([1, 2, 3], 9))    "
   ]
  },
  {
   "cell_type": "markdown",
   "metadata": {},
   "source": [
    "#### Q3\n",
    "Library Fines"
   ]
  },
  {
   "cell_type": "code",
   "execution_count": 1,
   "metadata": {},
   "outputs": [
    {
     "name": "stdout",
     "output_type": "stream",
     "text": [
      "3.0\n",
      "0.4\n"
     ]
    }
   ],
   "source": [
    "def calc_lib_fines(days_overdue):\n",
    "    if days_overdue <= 7:\n",
    "        return days_overdue * 0.10\n",
    "    else:\n",
    "        return days_overdue * 0.30\n",
    "\n",
    "# Test Code\n",
    "print(calc_lib_fines(10))  # Output: 3.0\n",
    "print(calc_lib_fines(4))   # Output: 0.4\n"
   ]
  },
  {
   "cell_type": "markdown",
   "metadata": {},
   "source": [
    "#### Q4\n",
    "Calc and Display Library Fines"
   ]
  },
  {
   "cell_type": "code",
   "execution_count": null,
   "metadata": {},
   "outputs": [],
   "source": [
    "def calc_lib_fines(days_overdue):\n",
    "    if days_overdue <= 7:\n",
    "        return days_overdue * 0.10\n",
    "    else:\n",
    "        return days_overdue * 0.30\n",
    "\n",
    "def main():\n",
    "    days_overdue = int(input(\"Enter the number of days the book is overdue: \"))\n",
    "    fine = calc_lib_fines(days_overdue)\n",
    "    print(f\"The fine is: ${fine:.2f}\")\n",
    "\n",
    "main()\n"
   ]
  },
  {
   "cell_type": "markdown",
   "metadata": {},
   "source": [
    "#### Q5\n",
    "Add Tutor"
   ]
  },
  {
   "cell_type": "code",
   "execution_count": 3,
   "metadata": {},
   "outputs": [
    {
     "name": "stdout",
     "output_type": "stream",
     "text": [
      "Wrong. The correct answer is 27\n",
      "Wrong. The correct answer is 23\n"
     ]
    }
   ],
   "source": [
    "import random\n",
    "\n",
    "def add_tutor():\n",
    "    num_questions = int(input(\"How many questions do you want to attempt? \"))\n",
    "    for _ in range(num_questions):\n",
    "        num1 = random.randint(1, 20)\n",
    "        num2 = random.randint(1, 20)\n",
    "        answer = int(input(f\"What is {num1} + {num2}? \"))\n",
    "        if answer == num1 + num2:\n",
    "            print(\"Correct!\")\n",
    "        else:\n",
    "            print(f\"Wrong. The correct answer is {num1 + num2}\")\n",
    "\n",
    "add_tutor()\n"
   ]
  },
  {
   "cell_type": "markdown",
   "metadata": {},
   "source": [
    "#### Q6\n",
    "Sub Tutor"
   ]
  },
  {
   "cell_type": "code",
   "execution_count": null,
   "metadata": {},
   "outputs": [],
   "source": [
    "import random\n",
    "\n",
    "def sub_tutor():\n",
    "    num_questions = int(input(\"How many questions do you want to attempt? \"))\n",
    "    for _ in range(num_questions):\n",
    "        num1 = random.randint(1, 20)\n",
    "        num2 = random.randint(1, 20)\n",
    "        answer = int(input(f\"What is {num1} - {num2}? \"))\n",
    "        if answer == num1 - num2:\n",
    "            print(\"Correct!\")\n",
    "        else:\n",
    "            print(f\"Wrong. The correct answer is {num1 - num2}\")\n",
    "\n",
    "# Uncomment the following line to run the function\n",
    "# sub_tutor()\n"
   ]
  },
  {
   "cell_type": "markdown",
   "metadata": {},
   "source": [
    "#### Q7\n",
    "Main Menu for Add and Sub Tutor"
   ]
  },
  {
   "cell_type": "code",
   "execution_count": null,
   "metadata": {},
   "outputs": [],
   "source": [
    "import random\n",
    "\n",
    "def add_tutor():\n",
    "    num_questions = int(input(\"How many questions do you want to attempt? \"))\n",
    "    \n",
    "    for _ in range(num_questions):\n",
    "        num1 = random.randint(1, 20)\n",
    "        num2 = random.randint(1, 20)\n",
    "\n",
    "        answer = int(input(f\"What is {num1} + {num2}? \"))\n",
    "\n",
    "        if answer == num1 + num2:\n",
    "            print(\"Correct!\")\n",
    "\n",
    "        else:\n",
    "            print(f\"Wrong. The correct answer is {num1 + num2}\")\n",
    "\n",
    "def sub_tutor():\n",
    "    num_questions = int(input(\"How many questions do you want to attempt? \"))\n",
    "\n",
    "    for _ in range(num_questions):\n",
    "        num1 = random.randint(1, 20)\n",
    "        num2 = random.randint(1, 20)\n",
    "\n",
    "        answer = int(input(f\"What is {num1} - {num2}? \"))\n",
    "\n",
    "        if answer == num1 - num2:\n",
    "            print(\"Correct!\")\n",
    "\n",
    "        else:\n",
    "            print(f\"Wrong. The correct answer is {num1 - num2}\")\n",
    "\n",
    "def main():\n",
    "    while True:\n",
    "        print(\"Welcome to the math tutor!\")\n",
    "        print(\"Please selection the challenge you would like to try, enter 'quit' to exit:\")\n",
    "        print(\"1. Addition challenge\")\n",
    "        print(\"2. Subtraction challenge\")\n",
    "\n",
    "        choice = input(\"Your selection please: \").lower()\n",
    "\n",
    "        if choice == '1':\n",
    "            add_tutor()\n",
    "\n",
    "        elif choice == '2':\n",
    "            sub_tutor()\n",
    "\n",
    "        elif choice == 'quit':\n",
    "            print(\"Good Bye!\")\n",
    "            break\n",
    "\n",
    "        else:\n",
    "            print(\"Invalid choice. Please choose 'add', 'sub', or 'quit'.\")\n",
    "\n",
    "main()\n"
   ]
  }
 ],
 "metadata": {
  "kernelspec": {
   "display_name": "Python 3",
   "language": "python",
   "name": "python3"
  },
  "language_info": {
   "codemirror_mode": {
    "name": "ipython",
    "version": 3
   },
   "file_extension": ".py",
   "mimetype": "text/x-python",
   "name": "python",
   "nbconvert_exporter": "python",
   "pygments_lexer": "ipython3",
   "version": "3.12.3"
  }
 },
 "nbformat": 4,
 "nbformat_minor": 2
}
