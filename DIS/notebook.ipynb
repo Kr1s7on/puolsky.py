{
 "cells": [
  {
   "cell_type": "markdown",
   "metadata": {},
   "source": [
    "## Intro to Python\n",
    "\n",
    "#### Hello World Exercise"
   ]
  },
  {
   "cell_type": "code",
   "execution_count": 2,
   "metadata": {},
   "outputs": [
    {
     "name": "stdout",
     "output_type": "stream",
     "text": [
      "I am Kriston, turning 18 in September, fav hobby is playing basketball, I like to eat pasta and my fav show is Game of Thrones.\n"
     ]
    }
   ],
   "source": [
    "# Exercise\n",
    "# Introduce yourself in Python.\n",
    "\n",
    "# Write a program that is printing your name, your age, where you live and a bit about yourself (hobbies, favorite food, favorite movie).\n",
    "\n",
    "# Print statement\n",
    "print(\"I am Kriston, turning 18 in September, fav hobby is playing basketball, I like to eat pasta and my fav show is Game of Thrones.\")"
   ]
  },
  {
   "cell_type": "markdown",
   "metadata": {},
   "source": [
    "## Variables\n",
    "\n",
    "#### Variables Exercise"
   ]
  },
  {
   "cell_type": "code",
   "execution_count": 72,
   "metadata": {},
   "outputs": [
    {
     "name": "stdout",
     "output_type": "stream",
     "text": [
      "Your name is kr, you are 18 years old and your favorite color is purple.\n"
     ]
    }
   ],
   "source": [
    "# Exercise\n",
    "# Write a program that asks a user for their name, age, and favorite color, and then prints them.\n",
    "\n",
    "# Ask user for inputs\n",
    "name = input(\"Please enter your name: \")\n",
    "age = int(input(\"Please enter your age: \"))\n",
    "fav_color = input(\"Please enter your favorite color: \")\n",
    "\n",
    "# Print the inputs\n",
    "print(f\"Your name is {name}, you are {age} years old and your favorite color is {fav_color}.\")"
   ]
  },
  {
   "cell_type": "markdown",
   "metadata": {},
   "source": [
    "#### Types Exercise"
   ]
  },
  {
   "cell_type": "code",
   "execution_count": null,
   "metadata": {},
   "outputs": [],
   "source": [
    "# Exercise\n",
    "# Open the Python console.\n",
    "\n",
    "# Create a few variables with the values:\n",
    "\n",
    "# 10\n",
    "# 3.14\n",
    "# \"Python is Fun\"\n",
    "# and check their types using the type function."
   ]
  },
  {
   "cell_type": "code",
   "execution_count": 8,
   "metadata": {},
   "outputs": [
    {
     "data": {
      "text/plain": [
       "int"
      ]
     },
     "execution_count": 8,
     "metadata": {},
     "output_type": "execute_result"
    }
   ],
   "source": [
    "a = 10\n",
    "type(a)"
   ]
  },
  {
   "cell_type": "code",
   "execution_count": 9,
   "metadata": {},
   "outputs": [
    {
     "data": {
      "text/plain": [
       "float"
      ]
     },
     "execution_count": 9,
     "metadata": {},
     "output_type": "execute_result"
    }
   ],
   "source": [
    "b = 3.14\n",
    "type(b)"
   ]
  },
  {
   "cell_type": "code",
   "execution_count": 10,
   "metadata": {},
   "outputs": [
    {
     "data": {
      "text/plain": [
       "str"
      ]
     },
     "execution_count": 10,
     "metadata": {},
     "output_type": "execute_result"
    }
   ],
   "source": [
    "c = \"Python is Fun\"\n",
    "type(c)"
   ]
  },
  {
   "cell_type": "markdown",
   "metadata": {},
   "source": [
    "#### Operations Exercise"
   ]
  },
  {
   "cell_type": "code",
   "execution_count": 11,
   "metadata": {},
   "outputs": [],
   "source": [
    "# Exercise\n",
    "# Open the Python console. Check the following operations, and write what each operation do for variables of each type (fill the table)."
   ]
  },
  {
   "cell_type": "code",
   "execution_count": 12,
   "metadata": {},
   "outputs": [
    {
     "name": "stdout",
     "output_type": "stream",
     "text": [
      "6\n"
     ]
    }
   ],
   "source": [
    "x = 3 + 3\n",
    "print(x)"
   ]
  },
  {
   "cell_type": "code",
   "execution_count": 13,
   "metadata": {},
   "outputs": [
    {
     "name": "stdout",
     "output_type": "stream",
     "text": [
      "0\n"
     ]
    }
   ],
   "source": [
    "x = 3 - 3\n",
    "print(x)"
   ]
  },
  {
   "cell_type": "code",
   "execution_count": 14,
   "metadata": {},
   "outputs": [
    {
     "name": "stdout",
     "output_type": "stream",
     "text": [
      "1.0\n"
     ]
    }
   ],
   "source": [
    "x = 3 / 3\n",
    "print(x)"
   ]
  },
  {
   "cell_type": "code",
   "execution_count": 15,
   "metadata": {},
   "outputs": [
    {
     "name": "stdout",
     "output_type": "stream",
     "text": [
      "9\n"
     ]
    }
   ],
   "source": [
    "x = 3 * 3\n",
    "print(x)"
   ]
  },
  {
   "cell_type": "code",
   "execution_count": 16,
   "metadata": {},
   "outputs": [
    {
     "name": "stdout",
     "output_type": "stream",
     "text": [
      "27\n"
     ]
    }
   ],
   "source": [
    "x = 3 ** 3\n",
    "print(x)"
   ]
  },
  {
   "cell_type": "code",
   "execution_count": 17,
   "metadata": {},
   "outputs": [
    {
     "name": "stdout",
     "output_type": "stream",
     "text": [
      "0\n"
     ]
    }
   ],
   "source": [
    "x = 3 % 3\n",
    "print(x)"
   ]
  },
  {
   "cell_type": "code",
   "execution_count": 18,
   "metadata": {},
   "outputs": [
    {
     "name": "stdout",
     "output_type": "stream",
     "text": [
      "33\n"
     ]
    }
   ],
   "source": [
    "x = \"3\" + \"3\"\n",
    "print(x)"
   ]
  },
  {
   "cell_type": "code",
   "execution_count": 19,
   "metadata": {},
   "outputs": [
    {
     "ename": "TypeError",
     "evalue": "can only concatenate str (not \"int\") to str",
     "output_type": "error",
     "traceback": [
      "\u001B[1;31m---------------------------------------------------------------------------\u001B[0m",
      "\u001B[1;31mTypeError\u001B[0m                                 Traceback (most recent call last)",
      "Cell \u001B[1;32mIn[19], line 1\u001B[0m\n\u001B[1;32m----> 1\u001B[0m x \u001B[38;5;241m=\u001B[39m \u001B[38;5;124;43m\"\u001B[39;49m\u001B[38;5;124;43m3\u001B[39;49m\u001B[38;5;124;43m\"\u001B[39;49m\u001B[43m \u001B[49m\u001B[38;5;241;43m+\u001B[39;49m\u001B[43m \u001B[49m\u001B[38;5;241;43m3\u001B[39;49m\n\u001B[0;32m      2\u001B[0m \u001B[38;5;28mprint\u001B[39m(x)\n",
      "\u001B[1;31mTypeError\u001B[0m: can only concatenate str (not \"int\") to str"
     ]
    }
   ],
   "source": [
    "x = \"3\" + 3\n",
    "print(x)"
   ]
  },
  {
   "cell_type": "code",
   "execution_count": 20,
   "metadata": {},
   "outputs": [
    {
     "ename": "TypeError",
     "evalue": "can't multiply sequence by non-int of type 'str'",
     "output_type": "error",
     "traceback": [
      "\u001B[1;31m---------------------------------------------------------------------------\u001B[0m",
      "\u001B[1;31mTypeError\u001B[0m                                 Traceback (most recent call last)",
      "Cell \u001B[1;32mIn[20], line 1\u001B[0m\n\u001B[1;32m----> 1\u001B[0m x \u001B[38;5;241m=\u001B[39m \u001B[38;5;124;43m\"\u001B[39;49m\u001B[38;5;124;43m3\u001B[39;49m\u001B[38;5;124;43m\"\u001B[39;49m\u001B[43m \u001B[49m\u001B[38;5;241;43m*\u001B[39;49m\u001B[43m \u001B[49m\u001B[38;5;124;43m\"\u001B[39;49m\u001B[38;5;124;43m3\u001B[39;49m\u001B[38;5;124;43m\"\u001B[39;49m\n\u001B[0;32m      2\u001B[0m \u001B[38;5;28mprint\u001B[39m(x)\n",
      "\u001B[1;31mTypeError\u001B[0m: can't multiply sequence by non-int of type 'str'"
     ]
    }
   ],
   "source": [
    "x = \"3\" * \"3\"\n",
    "print(x)"
   ]
  },
  {
   "cell_type": "code",
   "execution_count": 22,
   "metadata": {},
   "outputs": [
    {
     "name": "stdout",
     "output_type": "stream",
     "text": [
      "333\n"
     ]
    }
   ],
   "source": [
    "x = \"3\" * 3\n",
    "print(x)"
   ]
  },
  {
   "cell_type": "markdown",
   "metadata": {},
   "source": [
    "#### Casting Exercise"
   ]
  },
  {
   "cell_type": "code",
   "execution_count": 23,
   "metadata": {},
   "outputs": [
    {
     "name": "stdout",
     "output_type": "stream",
     "text": [
      "Find out your age in 5 years!\n",
      "\n",
      "\n",
      "You will be 23 in 5 years!\n"
     ]
    }
   ],
   "source": [
    "# Exercise\n",
    "# Write a program that asks a user for their age, and then prints their age five years from now. For example: if my age now is 29, the answer will be 34.\n",
    "\n",
    "print(\"Find out your age in 5 years!\\n\")\n",
    "# Ask user for input\n",
    "age = int(input(\"Please enter your age: \"))\n",
    "\n",
    "AgeIn5Years = age + 5\n",
    "\n",
    "print(f\"You will be {AgeIn5Years} in 5 years!\")"
   ]
  },
  {
   "cell_type": "markdown",
   "metadata": {},
   "source": [
    "#### Swap Exercise"
   ]
  },
  {
   "cell_type": "code",
   "execution_count": 28,
   "metadata": {},
   "outputs": [
    {
     "name": "stdout",
     "output_type": "stream",
     "text": [
      "Guido's orb: sapphire\n",
      "Rosum's orb: ruby\n"
     ]
    }
   ],
   "source": [
    "# Your task\n",
    "# Initialize 2 variables - guidos_orb = \"ruby\" and rosums_orb = \"sapphire\".\n",
    "# Do your magic - swap their values.\n",
    "# Print the values of the 2 orbs both before and after the swap.\n",
    "# Bonus - for extra wow effect, do it in a single line!\n",
    "\n",
    "guidos_orb = \"ruby\"\n",
    "rosums_orb = \"sapphire\"\n",
    "\n",
    "guidos_orb, rosums_orb = rosums_orb, guidos_orb\n",
    "\n",
    "print(f\"Guido's orb: {guidos_orb}\")\n",
    "print(f\"Rosum's orb: {rosums_orb}\")"
   ]
  },
  {
   "cell_type": "markdown",
   "metadata": {},
   "source": [
    "#### Temperature Exercise"
   ]
  },
  {
   "cell_type": "code",
   "execution_count": 32,
   "metadata": {},
   "outputs": [
    {
     "name": "stdout",
     "output_type": "stream",
     "text": [
      "The temperature in Celsius is 37.8 degrees.\n"
     ]
    }
   ],
   "source": [
    "# Your task\n",
    "# Create a Python script that converts a temperature from Fahrenheit to Celsius.\n",
    "\n",
    "# Prompt for Fahrenheit Input: Ask the user to enter a temperature in Fahrenheit.\n",
    "\n",
    "# Convert to Celsius: Calculate the Celsius equivalent using the formula C = (F - 32) * (5/9), where C is the temperature in Celsius and F is the temperature in Fahrenheit.\n",
    "\n",
    "# Display the Result: Print the converted temperature in Celsius.\n",
    "\n",
    "# Make sure you can handle non-whole values of temperature.\n",
    "\n",
    "# Ask user for input\n",
    "far = float(input(\"Enter the temperature in Fahrenheit: \"))\n",
    "\n",
    "# Convert to Celsius\n",
    "cels = (far - 32) * (5/9)\n",
    "\n",
    "# Print the converted temperature\n",
    "print(f\"The temperature in Celsius is {cels:.1f} degrees.\")"
   ]
  },
  {
   "cell_type": "markdown",
   "metadata": {},
   "source": [
    "## Flow Control\n",
    "\n",
    "#### Boolean Challenge!"
   ]
  },
  {
   "cell_type": "code",
   "execution_count": 37,
   "metadata": {},
   "outputs": [
    {
     "data": {
      "text/plain": [
       "True"
      ]
     },
     "execution_count": 37,
     "metadata": {},
     "output_type": "execute_result"
    }
   ],
   "source": [
    " ((not False) or (not True)) and (not (False or False))"
   ]
  },
  {
   "cell_type": "markdown",
   "metadata": {},
   "source": [
    "#### Conditions Exercise"
   ]
  },
  {
   "cell_type": "code",
   "execution_count": 140,
   "metadata": {},
   "outputs": [
    {
     "name": "stdout",
     "output_type": "stream",
     "text": [
      "Sorry, I don't speak this language.\n"
     ]
    }
   ],
   "source": [
    "# Ask user for inputs\n",
    "name = str(input(\"Please enter your name: \"))\n",
    "lang = str(input(\"Please enter your preferred language (English, Italian, French, Spanish, German): \"))\n",
    "\n",
    "if lang == \"English\":\n",
    "    print(f\"Hello, {name}!\")\n",
    "\n",
    "elif lang == \"Italian\":\n",
    "    print(f\"Ciao, {name}!\")\n",
    "\n",
    "elif lang == \"French\":\n",
    "    print(f\"Bonjour, {name}!\")\n",
    "\n",
    "elif lang == \"Spanish\":\n",
    "    print(f\"Hola, {name}!\")\n",
    "    \n",
    "elif lang == \"German\":\n",
    "    print(f\"Hallo, {name}!\")\n",
    "\n",
    "else:\n",
    "    print(\"Sorry, I don't speak this language.\")"
   ]
  },
  {
   "cell_type": "markdown",
   "metadata": {},
   "source": [
    "#### Boolean Exercise"
   ]
  },
  {
   "cell_type": "code",
   "execution_count": 50,
   "metadata": {},
   "outputs": [
    {
     "name": "stdout",
     "output_type": "stream",
     "text": [
      "Good night, Kr!\n"
     ]
    }
   ],
   "source": [
    "# Exercise\n",
    "# Write a code that gets the user’s name, and the hour now (only the hour, from 0-23. For example: 15, for 15:00PM).\n",
    "\n",
    "# If it is morning, it will greet the user “Good morning!”.\n",
    "# If it’s noon, it will greet the user “Good day!”.\n",
    "# In the afternoon, the greeting will be “Good afternoon!”.\n",
    "# In the evening, the greeting will be “Good evening!”.\n",
    "# And finally, in the night, it will greet “Good night!”.\n",
    "# Morning is considered from 6:00 to 9:00.\n",
    "# Noon is considered from 10:00 to 11:59\n",
    "# Afternoon is considered from 12:00 to 16:59.\n",
    "# Evening is considered from 17:00 to 19:59.\n",
    "# Night is considered from 20:00 to 5:59. \n",
    "\n",
    "# Ask user for inputs\n",
    "name = str(input(\"Enter your name: \"))\n",
    "hour = int(input(\"Enter the current hour (0-23): \"))\n",
    "\n",
    "# Time of day\n",
    "if 6 <= hour <= 11:\n",
    "    print(f\"Good morning, {name}!\")\n",
    "elif 10 <= hour <= 11:\n",
    "    print(f\"Good day, {name}!\")\n",
    "elif 12 <= hour <= 16:\n",
    "    print(f\"Good afternoon, {name}!\")\n",
    "elif 17 <= hour <= 20:\n",
    "    print(f\"Good evening, {name}!\")\n",
    "else:\n",
    "    print(f\"Good night, {name}!\")"
   ]
  },
  {
   "cell_type": "markdown",
   "metadata": {},
   "source": [
    "#### Division Bell Exercise"
   ]
  },
  {
   "cell_type": "code",
   "execution_count": 52,
   "metadata": {},
   "outputs": [
    {
     "name": "stdout",
     "output_type": "stream",
     "text": [
      "31 doesn't divide by 7. The remainder is 3.\n"
     ]
    }
   ],
   "source": [
    "# Exercise\n",
    "# Write a code that gets from the user the number of days in the month, and an additional number (x).\n",
    "\n",
    "# The code will print whether the number of days in the month divides by x.\n",
    "\n",
    "# If it doesn't divide by x, it will print the remainder.\n",
    "\n",
    "# Example Output\n",
    "\n",
    "# Example 1:\n",
    "# Enter the number of days in the month: 30\n",
    "# Enter the number x: 6\n",
    "# 30 divides by 6.\n",
    "\n",
    "# Example 2:\n",
    "# Enter the number of days in the month: 31\n",
    "# Enter the number x: 7\n",
    "# 31 doesn't divide by 7. The remainder is 3.\n",
    "\n",
    "# User Inputs\n",
    "month_day = int(input(\"Enter the number of days in the month: \"))\n",
    "x = int(input(\"Enter the number x: \"))\n",
    "\n",
    "# Check if month_day divides by x\n",
    "if month_day % x == 0:\n",
    "    print(f\"{month_day} divides by {x}\")\n",
    "else:\n",
    "    print(f\"{month_day} doesn't divide by {x}. The remainder is {month_day % x}.\")"
   ]
  },
  {
   "cell_type": "markdown",
   "metadata": {},
   "source": [
    "#### Calc Exercise"
   ]
  },
  {
   "cell_type": "code",
   "execution_count": 67,
   "metadata": {},
   "outputs": [
    {
     "name": "stdout",
     "output_type": "stream",
     "text": [
      "Welcome to the Command Line Calculator!\n",
      "Result: 3.0 * 40.0 = 120.0\n"
     ]
    }
   ],
   "source": [
    "# Instructions\n",
    "# Start the Program:\n",
    "    # Display a welcome message to the user.\n",
    "\n",
    "# User Input:\n",
    "    # Prompt the user to enter an operation (addition, subtraction, multiplication, division).\n",
    "    # Ask the user to enter two numbers for the calculation.\n",
    "\n",
    "# Perform Calculations:\n",
    "    # Based on the operation entered by the user, perform the corresponding arithmetic operation on the two numbers.\n",
    "    # Use if-elif-else statements to determine the operation.\n",
    "    # Implement error handling for division by zero and invalid operation inputs.\n",
    "\n",
    "# Display the Result:\n",
    "    # Print the result of the calculation to the console.\n",
    "\n",
    "# Bonus Tasks\n",
    "    # Implement more oprations - power and square root.\n",
    "\n",
    "# Example Output\n",
    "    # Welcome to the Command Line Calculator!\n",
    "    # Enter operation (add, subtract, multiply, divide): add\n",
    "    # Enter the first number: 5\n",
    "    # Enter the second number: 3\n",
    "    # Result: 5 + 3 = 8\n",
    "    # Goodbye!\n",
    "\n",
    "# Welcome message\n",
    "print(\"Welcome to the Command Line Calculator!\")\n",
    "\n",
    "# User inputs\n",
    "opr = str(input(\"Enter operation (add, subtract, multiply, divide, power): \")).lower()\n",
    "uno = float(input(\"Enter the first number: \"))\n",
    "dos = float(input(\"Enter the second number: \"))\n",
    "\n",
    "# Perform calculations\n",
    "if opr == \"add\":    # Addition\n",
    "    result = uno + dos\n",
    "    print(f\"Result: {uno} + {dos} = {result}\")\n",
    "\n",
    "elif opr == \"subtract\":    # subtraction\n",
    "    result = uno - dos\n",
    "    print(f\"Result: {uno} - {dos} = {result}\")\n",
    "\n",
    "elif opr == \"multiply\":    # multiplication\n",
    "    result = uno * dos\n",
    "    print(f\"Result: {uno} * {dos} = {result}\")\n",
    "\n",
    "elif opr == \"divide\":    # division\n",
    "    result = uno / dos\n",
    "    print(f\"Result: {uno} / {dos} = {result}\")\n",
    "\n",
    "elif opr == \"power\":    # power\n",
    "    result = uno ** dos\n",
    "    print(f\"Result: {uno} ** {dos} = {result}\")\n",
    "\n",
    "else:\n",
    "    print(\"Invalid operation\")"
   ]
  },
  {
   "cell_type": "markdown",
   "metadata": {},
   "source": [
    "#### The Quest Exercise"
   ]
  },
  {
   "cell_type": "code",
   "execution_count": 62,
   "metadata": {},
   "outputs": [
    {
     "name": "stdout",
     "output_type": "stream",
     "text": [
      "Invalid choice\n",
      "You walk near the dragon and try to steal the treasure. The dragon wakes up and eats you.\n",
      "YOU DIED!\n"
     ]
    }
   ],
   "source": [
    "# The Quest\n",
    "# Create a text-based adventure game where the player navigates through a series of choices leading to different outcomes. The goal is to find the mythical Pythonic Amulet.\n",
    "\n",
    "# Instructions\n",
    "# Start the Adventure:\n",
    "    # Display an introduction to the story. Set the scene where the player stands at the entrance of a mysterious forest.\n",
    "\n",
    "# Initial Choice:\n",
    "    # Ask the player if they want to enter the forest or set up camp and wait until morning. Use an input() statement to capture the decision.\n",
    "    # Implement an if-elif-else structure to process the decision:\n",
    "    # If the player enters the forest, they encounter a fork in the path.\n",
    "    # If they wait, introduce a twist that forces them into the forest by morning.\n",
    "\n",
    "# Fork in the Path:\n",
    "    # Present the player with two paths: left leads to a river, and right leads to a dark cave.\n",
    "    # Use nested if-elif-else statements to handle the player's choice:\n",
    "    # If they go left, they must find a way to cross the river.\n",
    "    # If they go right, they encounter a sleeping dragon.\n",
    "\n",
    "# Encounters:\n",
    "    # For each encounter, present the player with options on how to proceed and use if-elif-else statements to determine the outcome. For example:\n",
    "    # At the river, choosing to swim might lead to finding a hidden underwater passage, while building a raft might safely get them across.\n",
    "    # In the cave, trying to steal treasure from the dragon could end badly, but quietly exploring might reveal the hidden Pythonic Amulet.\n",
    "\n",
    "# Conclusion:\n",
    "    # Based on the decisions made, lead the player to different endings. Finding the amulet wins the game, but there are many other outcomes based on the choices made throughout the adventure - some good, some bad.\n",
    "\n",
    "# Tips\n",
    "    # Use clear and descriptive text to immerse the player in the adventure.\n",
    "    # Ensure each if-elif-else block has a default else case to handle unexpected inputs.\n",
    "    # Encourage the player to play again with different choices to discover all possible outcomes.\n",
    "    # Be creative - write your own adventure!\n",
    "\n",
    "# Example Output\n",
    "    # Welcome to the Quest for the Pythonic Amulet. You stand at the edge of a dark forest. Do you enter or wait until morning? (enter/wait): enter\n",
    "\n",
    "    # You've entered the forest and come to a fork in the path. Do you go left towards the river or right towards the cave? (left/right): left\n",
    "\n",
    "    # At the river, do you attempt to swim across or build a raft? (swim/build): swim\n",
    "\n",
    "    # Diving into the river, you discover an underwater passage leading to a hidden chamber...\n",
    "\n",
    "    # Congratulations! Inside the chamber, you find the Pythonic Amulet. You have won the game!\n",
    "\n",
    "# Welcome message\n",
    "welc = str(input(\"Welcome to the Quest for the Pythonic Amulet. You stand at the edge of a dark forest. Do you enter or wait until morning? (enter/wait): \"))\n",
    "\n",
    "# Initial choice\n",
    "if welc == \"enter\":\n",
    "    encounter1 = str(input(\"You've entered the forest and come to a fork in the path. Do you go left towards the river or right towards the cave? (left/right): \"))\n",
    "elif welc == \"wait\":\n",
    "    encounter1 = str(input(\"You fell asleep, and when you wake up, you feel so compelled to enter the forest.\\nYou've entered the forest and come to a fork in the path. Do you go left towards the river or right towards the cave? (left/right):\"))\n",
    "else:\n",
    "    print(\"Invalid choice\")\n",
    "\n",
    "# Fork in the path\n",
    "if encounter1 == \"left\":\n",
    "    encounter2a = str(input(\"At the river, do you attempt to swim across or build a raft? (swim/build): \"))\n",
    "elif encounter1 == \"right\":\n",
    "    encounter2b = str(input(\"In the cave, you encounter a sleeping dragon. Do you try to steal treasure or explore quietly? (steal/explore): \"))\n",
    "else:\n",
    "    print(\"Invalid choice\")\n",
    "\n",
    "# River encounter\n",
    "if encounter2a == \"swim\":\n",
    "    print(\"Diving into the river, you discover an underwater passage leading to a hidden chamber...\\nCongratulations! Inside the chamber, you find the Pythonic Amulet. You have won the game!\")\n",
    "elif encounter2a == \"build\":\n",
    "    print(\"You safely cross the river on your raft and you see something just in the distance...\\nCongratulations! Inside the chamber, you find the Pythonic Amulet. You have won the game!\")\n",
    "else:\n",
    "    print(\"Invalid choice\")\n",
    "\n",
    "# Cave encounter\n",
    "if encounter2b == \"steal\":\n",
    "    print(\"You walk near the dragon and try to steal the treasure. The dragon wakes up and eats you.\\nYOU DIED!\")\n",
    "elif encounter2b == \"explore\":\n",
    "    print(\"You quietly explore the cave and find a hidden passage.\\nCongratulations! Venturi, you find the Pythonic Amulet. You have won the game!\")\n",
    "else:\n",
    "    print(\"Invalid choice\")"
   ]
  },
  {
   "cell_type": "markdown",
   "metadata": {},
   "source": [
    "## Lists and Tuples\n",
    "\n",
    "#### Intro to Lists"
   ]
  },
  {
   "cell_type": "code",
   "execution_count": 97,
   "metadata": {},
   "outputs": [
    {
     "name": "stdout",
     "output_type": "stream",
     "text": [
      "[1, 2, 3, 4, 5]\n",
      "[1, 2, 3, 'one', 'two', 3.14]\n"
     ]
    }
   ],
   "source": [
    "my_list = [1, 2, 3, 4, 5]\n",
    "print(my_list)\n",
    "\n",
    "# A list doesn’t have to be all variables of the same type.\n",
    "my_list2 = [1, 2, 3, \"one\", \"two\", 3.14]\n",
    "print(my_list2)"
   ]
  },
  {
   "cell_type": "code",
   "execution_count": 105,
   "metadata": {},
   "outputs": [
    {
     "data": {
      "text/plain": [
       "True"
      ]
     },
     "execution_count": 105,
     "metadata": {},
     "output_type": "execute_result"
    }
   ],
   "source": [
    "type(my_list) == list"
   ]
  },
  {
   "cell_type": "code",
   "execution_count": 100,
   "metadata": {},
   "outputs": [
    {
     "name": "stdout",
     "output_type": "stream",
     "text": [
      "[1, 2, 3, 4]\n"
     ]
    }
   ],
   "source": [
    "my_list.remove(5) # passing in the value to remove, not the index\n",
    "print(my_list)\n"
   ]
  },
  {
   "cell_type": "code",
   "execution_count": 103,
   "metadata": {},
   "outputs": [
    {
     "name": "stdout",
     "output_type": "stream",
     "text": [
      "[1, 2, 3, 4, 6, 5, 5]\n"
     ]
    }
   ],
   "source": [
    "my_list.append(5) # Add the value to the end of the list\n",
    "print(my_list)"
   ]
  },
  {
   "cell_type": "code",
   "execution_count": 104,
   "metadata": {},
   "outputs": [
    {
     "data": {
      "text/plain": [
       "7"
      ]
     },
     "execution_count": 104,
     "metadata": {},
     "output_type": "execute_result"
    }
   ],
   "source": [
    "len(my_list) # Get the length of the list"
   ]
  },
  {
   "cell_type": "code",
   "execution_count": 109,
   "metadata": {},
   "outputs": [
    {
     "name": "stdout",
     "output_type": "stream",
     "text": [
      "one\n"
     ]
    }
   ],
   "source": [
    "numbers_list = [\"one\", \"two\", \"three\", \"four\", \"five\"]\n",
    "number = numbers_list[0] # Access the second element in the list, index starts at 0\n",
    "print(number) # use -1 to access the last element in the list"
   ]
  },
  {
   "cell_type": "markdown",
   "metadata": {},
   "source": [
    "#### Intro to Slices\n",
    "\n",
    "- You can use slices to get a new list that contains only a part of the original list"
   ]
  },
  {
   "cell_type": "code",
   "execution_count": 110,
   "metadata": {},
   "outputs": [
    {
     "data": {
      "text/plain": [
       "['one', 'two', 'three']"
      ]
     },
     "execution_count": 110,
     "metadata": {},
     "output_type": "execute_result"
    }
   ],
   "source": [
    "numbers_list = [\"one\", \"two\", \"three\", \"four\", \"five\"]\n",
    "numbers_list[0:3] # [start:end] - gets the first three elements"
   ]
  },
  {
   "cell_type": "markdown",
   "metadata": {},
   "source": [
    "- You can use steps to jump forward more than one item every time"
   ]
  },
  {
   "cell_type": "code",
   "execution_count": 111,
   "metadata": {},
   "outputs": [
    {
     "data": {
      "text/plain": [
       "['one', 'three', 'five']"
      ]
     },
     "execution_count": 111,
     "metadata": {},
     "output_type": "execute_result"
    }
   ],
   "source": [
    "numbers_list = [\"one\", \"two\", \"three\", \"four\", \"five\"]\n",
    "numbers_list[0:5:2] # [start:end:step] - gets every 2nd element from the 1st to the 5th"
   ]
  },
  {
   "cell_type": "markdown",
   "metadata": {},
   "source": [
    "- And if we want to change one of the items in the list? No problem! This is how you do it"
   ]
  },
  {
   "cell_type": "code",
   "execution_count": 112,
   "metadata": {},
   "outputs": [
    {
     "name": "stdout",
     "output_type": "stream",
     "text": [
      "['one', 'two', 'banana', 'four', 'five']\n"
     ]
    }
   ],
   "source": [
    "numbers_list = [\"one\", \"two\", \"three\", \"four\", \"five\"]\n",
    "numbers_list[2] = \"banana\"\n",
    "print(numbers_list)"
   ]
  },
  {
   "cell_type": "markdown",
   "metadata": {},
   "source": [
    "- Checking if an item is in the list is very easy - use the in operator"
   ]
  },
  {
   "cell_type": "code",
   "execution_count": 113,
   "metadata": {},
   "outputs": [
    {
     "name": "stdout",
     "output_type": "stream",
     "text": [
      "True\n",
      "False\n"
     ]
    }
   ],
   "source": [
    "numbers_list = [\"one\", \"two\", \"three\", \"four\", \"five\"]\n",
    "print(\"one\" in numbers_list) # True\n",
    "print(\"six\" in numbers_list) # False"
   ]
  },
  {
   "cell_type": "markdown",
   "metadata": {},
   "source": [
    "- Because Python is awesome: you can also add lists to each other"
   ]
  },
  {
   "cell_type": "code",
   "execution_count": 114,
   "metadata": {},
   "outputs": [
    {
     "name": "stdout",
     "output_type": "stream",
     "text": [
      "['one', 'two', 'three', 'four', 'five', 'six', 'seven']\n"
     ]
    }
   ],
   "source": [
    "numbers_list = [\"one\", \"two\", \"three\", \"four\", \"five\"]\n",
    "numbers_list = numbers_list + [\"six\", \"seven\"]\n",
    "print(numbers_list)"
   ]
  },
  {
   "cell_type": "markdown",
   "metadata": {},
   "source": [
    "- More useful functions: Sum, max, sorted"
   ]
  },
  {
   "cell_type": "code",
   "execution_count": 116,
   "metadata": {},
   "outputs": [
    {
     "data": {
      "text/plain": [
       "[1, 2, 3, 4, 5, 6]"
      ]
     },
     "execution_count": 116,
     "metadata": {},
     "output_type": "execute_result"
    }
   ],
   "source": [
    "my_list = [1, 2, 3, 6, 4, 5]\n",
    "sorted(my_list)"
   ]
  },
  {
   "cell_type": "code",
   "execution_count": 117,
   "metadata": {},
   "outputs": [
    {
     "data": {
      "text/plain": [
       "21"
      ]
     },
     "execution_count": 117,
     "metadata": {},
     "output_type": "execute_result"
    }
   ],
   "source": [
    "my_list = [1, 2, 3, 6, 4, 5]\n",
    "sum(my_list)"
   ]
  },
  {
   "cell_type": "code",
   "execution_count": 118,
   "metadata": {},
   "outputs": [
    {
     "data": {
      "text/plain": [
       "6"
      ]
     },
     "execution_count": 118,
     "metadata": {},
     "output_type": "execute_result"
    }
   ],
   "source": [
    "my_list = [1, 2, 3, 6, 4, 5]"
   ]
  },
  {
   "cell_type": "markdown",
   "metadata": {},
   "source": [
    "#### Lists Exercise"
   ]
  },
  {
   "cell_type": "code",
   "execution_count": 123,
   "metadata": {},
   "outputs": [
    {
     "name": "stdout",
     "output_type": "stream",
     "text": [
      "The groceries are: ['carrot', 'rice', 'eggs', 'coconut milk', 'noodles', 'sugar', 'chicken', 'celery', 'curry powder', 'butter', 'flour', 'chicken broth']\n"
     ]
    }
   ],
   "source": [
    "# The Royal Chef of King Kahuka is cooking a celebratory meal for the king's party.\n",
    "\n",
    "# He wants your help in building a grocery list, based on dishes.\n",
    "\n",
    "# Write a program that asks the user for a first course (soup or salad), main course (noodles or curry), and a desert (cake or fruit).\n",
    "    # For each dish the user selects, the program will add its ingredients to the grocery list.\n",
    "    # Ensure all the suggested ingredients are in the list. You may add on your own ingredients as well.\n",
    "    # If an item is already in the list, it won't be added.\n",
    "    # In the end, the grocery list will be printed.\n",
    "\n",
    "# Example run:\n",
    "# Please enter a first course (soup/salad): salad\n",
    "    # Please enter a main course (noodles/curry): noodles\n",
    "    # Please enter a desert (cake/fruit): cake\n",
    "\n",
    "# The groceries are:\n",
    "    # [\"lettuce\", \"tomato\", \"cucumber\", \"olive oil\", \"chicken\", \"noodles\", \"soy sauce\", \"eggs\", \"flour\", \"sugar\", \"butter\"]\n",
    "    # Suggested ingredients\n",
    "    # Soup: chicken broth, noodles, carrot, celery\n",
    "    # Salad: lettuce, tomato, cucumber, olive oil\n",
    "    # Noodles: noodles, chicken, peppers, soy sauce\n",
    "    # Curry: chicken, curry powder, coconut milk, rice\n",
    "    # Cake: flour, sugar, eggs, butter\n",
    "    # Fruit: apples, bananas, oranges\n",
    "\n",
    "# User inputs\n",
    "first_course = str(input(\"Please enter a first course (soup/salad): \")).lower()\n",
    "main_course = str(input(\"Please enter a main course (noodles/curry): \")).lower()\n",
    "dessert = str(input(\"Please enter a desert (cake/fruit): \")).lower()\n",
    "\n",
    "# Suggested Ingredients\n",
    "soup = [\"chicken broth\", \"noodles\", \"carrot\", \"celery\"]\n",
    "salad = [\"lettuce\", \"tomato\", \"cucumber\", \"olive oil\"]\n",
    "noodles = [\"noodles\", \"chicken\", \"peppers\", \"soy sauce\"]\n",
    "curry = [\"chicken\", \"curry powder\", \"coconut milk\", \"rice\", \"eggs\"]\n",
    "cake = [\"flour\", \"sugar\", \"eggs\", \"butter\"]\n",
    "fruit = [\"apples\", \"bananas\", \"oranges\"]\n",
    "\n",
    "# List of groceries\n",
    "# First Course\n",
    "if first_course == \"soup\":\n",
    "    groceries = soup\n",
    "elif first_course == \"salad\":\n",
    "    groceries = salad\n",
    "else:\n",
    "    print(\"Invalid choice\")\n",
    "\n",
    "# Main Course\n",
    "if main_course == \"noodles\":\n",
    "    groceries += noodles\n",
    "elif main_course == \"curry\":\n",
    "    groceries += curry\n",
    "else:\n",
    "    print(\"Invalid choice\")\n",
    "\n",
    "# Dessert\n",
    "if dessert == \"cake\":\n",
    "    groceries += cake\n",
    "elif dessert == \"fruit\":\n",
    "    groceries += fruit\n",
    "else:\n",
    "    print(\"Invalid choice\")\n",
    "\n",
    "# Final List\n",
    "# Append: If an item is already in the list, it won't be added.\n",
    "groceries = list(set(groceries))\n",
    "print(f\"The groceries are: {groceries}\")"
   ]
  },
  {
   "cell_type": "markdown",
   "metadata": {},
   "source": [
    "#### List Indices Exercise"
   ]
  },
  {
   "cell_type": "code",
   "execution_count": 130,
   "metadata": {},
   "outputs": [
    {
     "name": "stdout",
     "output_type": "stream",
     "text": [
      "LeBron is not invited to the party, sorry\n",
      "LeBron will replace Moshe\n"
     ]
    }
   ],
   "source": [
    "# King Kahuka is throwing a party! 🎉\n",
    "\n",
    "# This is the list of people who are invited to the party:\n",
    "\n",
    "    # invites_list = [\"Max\", \"Marta\", \"Moshe\", \"Mona\", \"Margarita\", \"Mike\"]\n",
    "\n",
    "# Write a program that gets a name from the user, and checks if this person is invited to the party.\n",
    "    # If they are invited, print \"[name] is invited to the party!\".\n",
    "\n",
    "        #  Please enter a name: \n",
    "        #  Mona\n",
    "        #  Mona is invited to the party!\n",
    "\n",
    "    # If they are not invited to the party, the program will ask the user for an index.\n",
    "\n",
    "    # The new guest will be added to the list in this index and replace the existing guest!\n",
    "      # Before inserting the new guest, it will print which guest they are replacing.\n",
    "\n",
    "        # Please enter a name: Willy\n",
    "        # Willy is not invited to the party, sorry\n",
    "        # Please enter the index where you would like to insert Willy: 2\n",
    "        # Willy will replace Moshe\n",
    "\n",
    "    # Make sure the index is within the list. If the index is outside the list, the output flow will be as follows\n",
    "\n",
    "        # Please enter a name: Richard\n",
    "        # Richard is not invited to the party, sorry\n",
    "        # Please enter the index where you would like to insert Richard: 6\n",
    "\n",
    "# List of Guests\n",
    "guest_list = [\"Max\", \"Marta\", \"Moshe\", \"Mona\", \"Margarita\", \"Mike\"]\n",
    "\n",
    "# User inputs\n",
    "guest = str(input(\"Please enter a name: \"))\n",
    "\n",
    "# Check if the guest is invited\n",
    "if guest in guest_list:\n",
    "    print(f\"{guest} is invited to the party!\")\n",
    "else:\n",
    "    print(f\"{guest} is not invited to the party, sorry\")\n",
    "    index_list = int(input(\"Please enter the index where you would like to insert {guest}: \"))\n",
    "\n",
    "    # Check if index within list\n",
    "    if index_list < len(guest_list):\n",
    "        print(f\"{guest} will replace {guest_list[index_list]}\")\n",
    "        guest_list[index_list] = guest\n",
    "    else:\n",
    "        print(\"Invalid index\")"
   ]
  },
  {
   "cell_type": "markdown",
   "metadata": {},
   "source": [
    "#### List Operations Exercise"
   ]
  },
  {
   "cell_type": "code",
   "execution_count": 132,
   "metadata": {},
   "outputs": [
    {
     "name": "stdout",
     "output_type": "stream",
     "text": [
      "[3, 4, 7]\n",
      "The bigggest number is 7\n",
      "The biggest number is positive\n"
     ]
    }
   ],
   "source": [
    "# Exercise\n",
    "# Write a program that gets 3 numbers from the user, one by one, and appends each one of them to a list of numbers.\n",
    "\n",
    "# It will then print the biggest one.\n",
    "    # If it’s a positive number, the program will also print “The biggest number is positive”.\n",
    "    # If it’s a negative number, the program will print “The biggest number is negative”.\n",
    "    # If it’s zero, the program will print “The biggest number is zero”.\n",
    "\n",
    "# Write it without using the function “max”.\n",
    "\n",
    "# Initialise empty list\n",
    "numbers = []\n",
    "\n",
    "numbers.append(int(input(\"Enter the first number: \")))\n",
    "numbers.append(int(input(\"Enter the second number: \")))\n",
    "numbers.append(int(input(\"Enter the third number: \")))\n",
    "\n",
    "numbers.sort()\n",
    "print(numbers)\n",
    "biggest_number = numbers[-1] # take value at the last index\n",
    "\n",
    "print(f\"The bigggest number is {biggest_number}\")\n",
    "\n",
    "if biggest_number > 0:\n",
    "    print(\"The biggest number is positive\")\n",
    "elif biggest_number < 0:\n",
    "    print(\"The biggest number is negative.\")\n",
    "else:\n",
    "    print(\"The biggest number is zero.\")"
   ]
  },
  {
   "cell_type": "markdown",
   "metadata": {},
   "source": [
    "#### Tuples and Sets"
   ]
  },
  {
   "cell_type": "code",
   "execution_count": null,
   "metadata": {},
   "outputs": [],
   "source": []
  },
  {
   "cell_type": "markdown",
   "metadata": {},
   "source": [
    "## Loops\n",
    "\n",
    "#### For Loop Exercise"
   ]
  },
  {
   "cell_type": "code",
   "execution_count": 131,
   "metadata": {},
   "outputs": [
    {
     "name": "stdout",
     "output_type": "stream",
     "text": [
      "1\n",
      "4\n",
      "25\n",
      "729\n",
      "16\n"
     ]
    }
   ],
   "source": [
    "# Exercise\n",
    "# Danny the lazy mathematician has a list of numbers:\n",
    "\n",
    "    # numbers_list = [1, 2, 5, 27, -4]\n",
    "\n",
    "# He wants to know the square (number ** 2) of each digit in the list.\n",
    "\n",
    "# Write a program to help him print the square of each number in the given numbers list.\n",
    "\n",
    "# List\n",
    "numbers_list = [1, 2, 5, 27, -4]\n",
    "\n",
    "# Sq of each no.\n",
    "for i in numbers_list:\n",
    "    print(i ** 2)"
   ]
  },
  {
   "cell_type": "markdown",
   "metadata": {},
   "source": [
    "#### While Loop Exercise"
   ]
  },
  {
   "cell_type": "code",
   "execution_count": null,
   "metadata": {},
   "outputs": [],
   "source": [
    "# Exercise\n",
    "# Write a loop that is running forever, and printing \n",
    "# the sentence “Don’t stop ‘till you get enough” again and again. \n",
    "# Do not use variables to create a while loop.\n",
    "\n",
    "# Hint:\n",
    "    # Think of a simple boolean expression that is always True.\n",
    "\n",
    "while True:\n",
    "    print(\"Don't stop 'till you get enough\")"
   ]
  },
  {
   "cell_type": "markdown",
   "metadata": {},
   "source": [
    "#### Range Exercise (Nested Loop)"
   ]
  },
  {
   "cell_type": "code",
   "execution_count": 141,
   "metadata": {},
   "outputs": [
    {
     "name": "stdout",
     "output_type": "stream",
     "text": [
      "Prime numbers between 0 and 6:\n",
      "2\n",
      "3\n",
      "5\n"
     ]
    }
   ],
   "source": [
    "# Write a program that gets a number from the user, and prints all the prime numbers between 0 and that number.\n",
    "\n",
    "# Reminder: a prime number is a number that is divided only by itself and by 1 (but 1 is not a prime).\n",
    "\n",
    "# Example output\n",
    "    # Enter a number: 10\n",
    "    # Prime numbers between 0 and 10 :\n",
    "    # 2\n",
    "    # 3\n",
    "    # 5\n",
    "    # 7\n",
    "\n",
    "# User Inputs\n",
    "numero = int(input(\"Enter a number: \"))\n",
    "\n",
    "# Prime numbers\n",
    "print(f\"Prime numbers between 0 and {numero}:\")\n",
    "for i in range(2, numero + 1):\n",
    "    for j in range(2, i):\n",
    "        if i % j == 0:\n",
    "            break\n",
    "    else:\n",
    "        print(i)"
   ]
  },
  {
   "cell_type": "markdown",
   "metadata": {},
   "source": [
    "#### While Loop and Input Exercise"
   ]
  },
  {
   "cell_type": "code",
   "execution_count": 144,
   "metadata": {},
   "outputs": [
    {
     "name": "stdout",
     "output_type": "stream",
     "text": [
      "The average value is 2.5714285714285716\n"
     ]
    }
   ],
   "source": [
    "# Exercise\n",
    "# Write a program that is getting numbers from user, until they enter 0.\n",
    "# Then it will print the average value of all of the numbers the program got.\n",
    "# Reminder: average = total sum / number of items.\n",
    "# The code should handle the case where there are no numbers entered (print \"No numbers were entered\").\n",
    "\n",
    "# List of numbers\n",
    "number_list = []\n",
    "\n",
    "# User Inputs\n",
    "num = int(input(\"Enter a number: \"))\n",
    "while num != 0:\n",
    "    number_list.append(num)\n",
    "    num = int(input(\"Enter a number: \"))\n",
    "else:\n",
    "    if len(number_list) == 0:\n",
    "        print(\"No numbers were entered\")\n",
    "    else:\n",
    "        average = sum(number_list) / len(number_list)\n",
    "        print(f\"The average value is {average}.\")"
   ]
  },
  {
   "cell_type": "markdown",
   "metadata": {},
   "source": [
    "#### Sort Exercise"
   ]
  },
  {
   "cell_type": "code",
   "execution_count": 4,
   "metadata": {},
   "outputs": [
    {
     "name": "stdout",
     "output_type": "stream",
     "text": [
      "Sorted numbers: [3, 3, 4, 5, 6, 7, 7, 8, 9]\n"
     ]
    }
   ],
   "source": [
    "# Bubble sort and selection sort are 2 basic sorting algorithms:\n",
    "    # Bubble Sort: Goes through a list multiple times, swapping elements that are in the wrong order until everything is sorted.\n",
    "    # Selection Sort: Finds the smallest (or largest) element in the list and moves it to its correct position, repeating this process for each element.\n",
    "\n",
    "# Exercise\n",
    "    # Write a program that is getting numbers from user, until they enter 0.\n",
    "    # Then the program will print the numbers, sorted from smallest to largest.\n",
    "    # Implement an algorithm yourself - do not use the \"sort\" or \"sorted\" Python functions.\n",
    "\n",
    "# Initialise empty list to store numbers\n",
    "num_list = []\n",
    "\n",
    "# Start  infinite loop to get the numbers from the user\n",
    "while True:\n",
    "    # User prompt\n",
    "    num = int(input(\"Enter a number (0 to stop): \"))\n",
    "    \n",
    "    if num == 0: # If a user enters 0, loop breaks\n",
    "        break\n",
    "\n",
    "    num_list.append(num) # Add the num to the num_list\n",
    "\n",
    "# Using Bubble sort algorithm\n",
    "for i in range(len(num_list)):\n",
    "    # Nested loop to go through the list\n",
    "    for j in range(len(num_list) - 1):\n",
    "        # Change the order of items if the previous item is greater than the next item\n",
    "        if num_list[j] > num_list[j + 1]:\n",
    "            # Swap the items\n",
    "            num_list[j], num_list[j + 1] = num_list[j + 1], num_list[j]\n",
    "\n",
    "# Print the sorted list\n",
    "print(\"Sorted numbers:\", num_list)\n"
   ]
  },
  {
   "cell_type": "markdown",
   "metadata": {},
   "source": [
    "## Strings\n",
    "\n",
    "#### Strings are like lists Exercise"
   ]
  },
  {
   "cell_type": "code",
   "execution_count": 7,
   "metadata": {},
   "outputs": [
    {
     "name": "stdout",
     "output_type": "stream",
     "text": [
      "yhni wsm"
     ]
    }
   ],
   "source": [
    "# Exercise\n",
    "# King Kahuka, the king of strings, decided to ban from now on every second character in every sentence.\n",
    "\n",
    "# Write a program that gets a string from the user, and prints only the characters in the odd (1, 3, 5, etc…) indexes.\n",
    "\n",
    "# For example: if the user entered “Python is awesome”, the output will be: yhni wsm\n",
    "\n",
    "# (Remember that we start counting from 0!)\n",
    "\n",
    "# Follow the input and output flow:\n",
    "#     Enter a string: Python is awesome\n",
    "#     yhni wsm\n",
    "\n",
    "# User Input\n",
    "string = str(input(\"Enter a string: \"))\n",
    "\n",
    "# Print the characters in the odd indexes\n",
    "for letter in range(len(string)):\n",
    "    if letter % 2 != 0:     # Check if the index is odd, != - not equal to\n",
    "        print(string[letter], end=\"\")     # end=\"\" - to print the characters in the same line\n",
    "\n",
    "\n",
    "\n",
    "# ===================================  Another Method  =========================================\n",
    "# User Input\n",
    "# string = str(input(\"Enter a string: \"))\n",
    "# odd_characters = string[1::2]\n",
    "# # [start:end:step] - start from the 1st index, get every 2nd character\n",
    "\n",
    "# print(odd_characters)\n",
    "# =============================================================================================="
   ]
  },
  {
   "cell_type": "code",
   "execution_count": 66,
   "metadata": {},
   "outputs": [
    {
     "name": "stdout",
     "output_type": "stream",
     "text": [
      "II  LLOOVVEE  PPYYTTHHOONN\n"
     ]
    }
   ],
   "source": [
    "new_word = ''\n",
    "\n",
    "for character in 'I LOVE PYTHON':\n",
    "\n",
    "            new_word += character*2\n",
    "\n",
    "print(new_word)"
   ]
  },
  {
   "cell_type": "markdown",
   "metadata": {},
   "source": []
  },
  {
   "cell_type": "markdown",
   "metadata": {},
   "source": [
    "#### String operations Exercise"
   ]
  },
  {
   "cell_type": "code",
   "execution_count": 16,
   "metadata": {},
   "outputs": [
    {
     "name": "stdout",
     "output_type": "stream",
     "text": [
      "Number of times 'e' appeared: 2\n",
      "testing this python! code\n"
     ]
    }
   ],
   "source": [
    "# Exercise\n",
    "# Write a program that gets a string from the user, and does the following things:\n",
    "#     If it’s all lowercase - converts it to all uppercase (”hello” → “HELLO”)\n",
    "#     If it’s all uppercase - converts it to all lowercase (”HELLO” → “hello”)\n",
    "#     Only if there’s an “e” in the string - prints the number of times “e” appears in the string. (Regardless of upper or lower case letters)\n",
    "#     Only if there’s the word “python” in the string - changes it to “python!” (only strictly for \"python\" and \"PYTHON\", \"Python\" does not count)\n",
    "#     Only it’s a number - multiplies it by 5 (”5” → 25)\n",
    "#     It must be able to handle cases when there is a mix of upper and lower case characters.\n",
    "\n",
    "# Hint:\n",
    "# Search for “String methods” in the Python documentation: Built-in Types — Python 3.12.1 documentation\n",
    "\n",
    "# Example Output\n",
    "# Example 1 (all lower case letters)\n",
    "#     Enter a string: restaurant reheated my python code\n",
    "#     Number of times 'e' appeared: 5\n",
    "#     RESTAURANT REHEATED MY PYTHON! CODE\n",
    "# Example 2 (all upper case letters)\n",
    "#     Enter a string: OH JOHN? HE LOVES ECONOMIC RICE AND CODING PYTHON\n",
    "#     Number of times 'e' appeared: 4\n",
    "#     oh john? he loves economic rice and coding python!\n",
    "# Example 3 (purely numeric input)\n",
    "#     Enter a string: 90\n",
    "#     Final multiplied value: 450\n",
    "# Example 4 (mix of lower and upper case letters)\n",
    "#     Enter a string: Hello 123 testing Python\n",
    "#     Number of times 'e' appeared: 2\n",
    "#     Hello 123 testing Python\n",
    "\n",
    "# User Input\n",
    "string = str(input(\"Enter a string: \"))\n",
    "\n",
    "# Check if all lowercase\n",
    "if string.islower():\n",
    "    string = string.upper()\n",
    "\n",
    "# Check if all uppercase\n",
    "elif string.isupper():\n",
    "    string = string.lower()\n",
    "\n",
    "# Check for \"python\" or \"PYTHON\"\n",
    "if \"python\" in string or \"PYTHON\" in string:\n",
    "    string = string.replace(\"python\", \"python!\") # Replace \"python\" with \"python!\"\n",
    "    string = string.replace(\"PYTHON\", \"PYTHON!\") # Replace \"PYTHON\" with \"PYTHON!\"\n",
    "\n",
    "# Check if number\n",
    "if string.isnumeric():\n",
    "    string = int(string) * 5\n",
    "    print(f\"Final multiplied value: {string}\")\n",
    "else:\n",
    "    # Check if e in string and count number of e\n",
    "    e_count = string.lower().count('e')\n",
    "    if e_count > 0:\n",
    "        print(f\"Number of times 'e' appeared: {e_count}\")\n",
    "\n",
    "    # Final string\n",
    "    print(string)"
   ]
  },
  {
   "cell_type": "markdown",
   "metadata": {},
   "source": [
    "#### Split Exercise"
   ]
  },
  {
   "cell_type": "code",
   "execution_count": 3,
   "metadata": {},
   "outputs": [
    {
     "name": "stdout",
     "output_type": "stream",
     "text": [
      "The number of words in the string is: 6\n"
     ]
    }
   ],
   "source": [
    "# Write a program that gets a string from the user, and prints how many words are in it.\n",
    "\n",
    "# You can assume that the words are separated by a single space.\n",
    "\n",
    "# Example Output\n",
    "    # Enter a string: mug straw tesla car wallet headphones\n",
    "    # The number of words in the string is: 6\n",
    "\n",
    "# flow: input for string, cut the whole string into words, count number of words\n",
    "\n",
    "# User Input\n",
    "whole_string = str(input(\"Enter a string: \"))\n",
    "split_string = whole_string.split(\" \")  # Split the string into words\n",
    "\n",
    "# count no. of words\n",
    "w_count = len(split_string)\n",
    "\n",
    "# Print\n",
    "print(f\"The number of words in the string is: {w_count}\")"
   ]
  },
  {
   "cell_type": "markdown",
   "metadata": {},
   "source": [
    "## Dictionaries\n",
    "\n",
    "#### Intro to Dictionaries"
   ]
  },
  {
   "cell_type": "markdown",
   "metadata": {},
   "source": [
    "- Dictionary is a data type, like a list. It maps variables to other variables.\n",
    "    - The thing we look up (the “word”) is called a key.\n",
    "    - What we find by it (the “definition”) is called a value.\n",
    "    - Use when you have two related items\n"
   ]
  },
  {
   "cell_type": "code",
   "execution_count": 5,
   "metadata": {},
   "outputs": [
    {
     "name": "stdout",
     "output_type": "stream",
     "text": [
      "{'Mark': 80, 'David': 90, 'Laura': 65, 'Johanna': 100}\n"
     ]
    }
   ],
   "source": [
    "students_dict = {\"Mark\": 80, \"David\": 90, \"Laura\": 65, \"Johanna\": 100}\n",
    "print(students_dict)"
   ]
  },
  {
   "cell_type": "markdown",
   "metadata": {},
   "source": [
    "- Adding keys to a dictionary"
   ]
  },
  {
   "cell_type": "code",
   "execution_count": 21,
   "metadata": {},
   "outputs": [
    {
     "name": "stdout",
     "output_type": "stream",
     "text": [
      "{'Mark': 10, 'Johanna': 95}\n"
     ]
    }
   ],
   "source": [
    "students_grades_dict = {}\n",
    "students_grades_dict[\"Mark\"] = 10\n",
    "students_grades_dict[\"Johanna\"] = 95\n",
    "print(students_grades_dict)"
   ]
  },
  {
   "cell_type": "markdown",
   "metadata": {},
   "source": [
    "- Looking up values\n",
    "    - When using “get”, there is no error when a key is not found."
   ]
  },
  {
   "cell_type": "code",
   "execution_count": 24,
   "metadata": {},
   "outputs": [
    {
     "name": "stdout",
     "output_type": "stream",
     "text": [
      "10\n",
      "10\n"
     ]
    }
   ],
   "source": [
    "print(students_grades_dict[\"Mark\"])\n",
    "# or\n",
    "print(students_grades_dict.get(\"Mark\"))"
   ]
  },
  {
   "cell_type": "markdown",
   "metadata": {},
   "source": [
    "- update"
   ]
  },
  {
   "cell_type": "code",
   "execution_count": 18,
   "metadata": {},
   "outputs": [],
   "source": [
    "students_grades_dict[\"Mark\"] = 100"
   ]
  },
  {
   "cell_type": "markdown",
   "metadata": {},
   "source": [
    "- delete"
   ]
  },
  {
   "cell_type": "code",
   "execution_count": 19,
   "metadata": {},
   "outputs": [],
   "source": [
    "del students_grades_dict[\"Mark\"]"
   ]
  },
  {
   "cell_type": "markdown",
   "metadata": {},
   "source": [
    "#### Dictionaries Exercise"
   ]
  },
  {
   "cell_type": "code",
   "execution_count": 36,
   "metadata": {},
   "outputs": [
    {
     "name": "stdout",
     "output_type": "stream",
     "text": [
      "The student's grade is: 80\n"
     ]
    }
   ],
   "source": [
    "# Write a program that asks the user for a student’s name. \n",
    "# The program will print the grade of this student. Please use the dictionary from the example above.\n",
    "\n",
    "# Follow the input and output flow:\n",
    "\n",
    "# Example 1:\n",
    "    # Enter a student's name: Laura\n",
    "    # The student's grade is: 65\n",
    "\n",
    "# If the student’s name doesn’t exist, print an error message.\n",
    "    # Hint: Use dict.get\n",
    "\n",
    "# Example 2:\n",
    "    # Enter a student's name: Timothy\n",
    "    # Error: student not found.\n",
    "\n",
    "#  Dictionary\n",
    "students_dict = {\"Mark\": 80, \"David\": 90, \"Laura\": 65, \"Johanna\": 100}\n",
    "\n",
    "# User inputs\n",
    "student_name = str(input(\"Enter a student's name: \"))\n",
    "\n",
    "#  Print the student's grade\n",
    "if students_dict.get(student_name):\n",
    "    grade = students_dict.get(student_name)\n",
    "    print(f\"The student's grade is: {grade}\")\n",
    "else:\n",
    "    print(\"Error: student not found.\")"
   ]
  },
  {
   "cell_type": "markdown",
   "metadata": {},
   "source": [
    "#### Reverse It Exercise"
   ]
  },
  {
   "cell_type": "code",
   "execution_count": 68,
   "metadata": {},
   "outputs": [
    {
     "name": "stdout",
     "output_type": "stream",
     "text": [
      "{'one': 1, 'two': 3, 'four': 4, 'five': 5}\n"
     ]
    }
   ],
   "source": [
    "# King Kahuka has a French to Portugese dictionary, and he wants to \n",
    "# reverse it - have a Portugese to French dictionary.\n",
    "\n",
    "# Write a code that takes a dictionary, and reverses it - the key will be the values, and vice versa.\n",
    "\n",
    "# Please use the following dictionary for your program:\n",
    "    # {1: \"one\", 2: \"two\", 3: \"two\", 4: \"four\", 5: \"five\"}\n",
    "\n",
    "# Print the output once the dictionary has been reversed.\n",
    "\n",
    "# Dictionary\n",
    "normal_dict = {1: \"one\", 2: \"two\", 3: \"two\", 4: \"four\", 5: \"five\"}\n",
    "\n",
    "# Reversing the dictionary\n",
    "# key and value are swapped\n",
    "reversed_dict = {value: key for key, value in normal_dict.items()}\n",
    "\n",
    "# Print\n",
    "print(reversed_dict)"
   ]
  },
  {
   "cell_type": "markdown",
   "metadata": {},
   "source": [
    "## Functions\n",
    "\n",
    "#### Defining Functions Exercise"
   ]
  },
  {
   "cell_type": "code",
   "execution_count": 44,
   "metadata": {},
   "outputs": [
    {
     "name": "stdout",
     "output_type": "stream",
     "text": [
      "Test\n"
     ]
    }
   ],
   "source": [
    "# Write a function called function that asks the user for their name, \n",
    "# and prints it.\n",
    "\n",
    "# Test it by calling it.\n",
    "\n",
    "def user_name():\n",
    "    name = str(input(\"Enter your name please:\"))\n",
    "    print(name)\n",
    "\n",
    "user_name()"
   ]
  },
  {
   "cell_type": "markdown",
   "metadata": {},
   "source": [
    "#### Arguments Exercise"
   ]
  },
  {
   "cell_type": "code",
   "execution_count": 51,
   "metadata": {},
   "outputs": [
    {
     "name": "stdout",
     "output_type": "stream",
     "text": [
      "woah\n",
      "None\n"
     ]
    }
   ],
   "source": [
    "# Change the function from the previous exercise \n",
    "# to get the name of the user as an argument, and then print it.\n",
    "# Try calling the function with different names, and see what happens.\n",
    "name_a = input(\"Enter your name please:\")\n",
    "name_a = name_a.lower()\n",
    "def function(name):\n",
    "    print(name)\n",
    "bbbb = function(name_a)\n",
    "print(bbbb)"
   ]
  },
  {
   "cell_type": "code",
   "execution_count": 54,
   "metadata": {},
   "outputs": [
    {
     "name": "stdout",
     "output_type": "stream",
     "text": [
      "NYP{y0uR3_4_mA5t3rCh3f!!!}\n"
     ]
    }
   ],
   "source": [
    "import base64\n",
    "flag_encoded = \"TllQe3kwdVIzXzRfbUE1dDNyQ2gzZiEhIX0=\"\n",
    "flag_decoded = base64.b64decode(flag_encoded).decode()\n",
    "print(flag_decoded)"
   ]
  },
  {
   "cell_type": "code",
   "execution_count": 13,
   "metadata": {},
   "outputs": [
    {
     "name": "stdout",
     "output_type": "stream",
     "text": [
      "NYP{gr3p_15_c00l}\n"
     ]
    }
   ],
   "source": [
    "import base64\n",
    "\n",
    "encoded_flag = \"TllQe2dyM3BfMTVfYzAwbH0=\"\n",
    "decoded_flag = base64.b64decode(encoded_flag).decode('utf-8')\n",
    "\n",
    "print(decoded_flag)"
   ]
  },
  {
   "cell_type": "code",
   "execution_count": 1,
   "metadata": {},
   "outputs": [
    {
     "name": "stdout",
     "output_type": "stream",
     "text": [
      "File does not exist.\n"
     ]
    }
   ],
   "source": [
    "# How will you remember what you reminded yourself without reading it?\n",
    "# Write a program that gets from the user a file path.\n",
    "\n",
    "# The program will read the file, and print its contents.\n",
    "\n",
    "# Things to note\n",
    "    # Before trying to open the file, make sure it exists.\n",
    "\n",
    "import os\n",
    "\n",
    "# Gets file path from user\n",
    "file_path = input(\"Please enter a file path: \")\n",
    "\n",
    "# Checks if file exists\n",
    "if os.path.isfile(file_path):\n",
    "    # Open file and print its contents\n",
    "    with open(file_path, 'r') as file:\n",
    "        print(file.read())\n",
    "else:\n",
    "    print(\"File does not exist.\")"
   ]
  },
  {
   "cell_type": "code",
   "execution_count": 2,
   "metadata": {},
   "outputs": [
    {
     "name": "stdout",
     "output_type": "stream",
     "text": [
      "The file does not exist at the specified path.\n"
     ]
    }
   ],
   "source": [
    "# Sometimes you have to write things down so you won't forget them!\n",
    "# Write a program that gets from the user something they want to remind themselves, and a file path.\n",
    "# The program will write the reminder to the file in the specified path.\n",
    "\n",
    "# The following is the input and output flow:\n",
    "\n",
    "# Example 1:\n",
    "    # Please enter the string you want to write to the file: Hello Mandy!\n",
    "    # Please enter the file path where you want to write the string: random.txt\n",
    "    # The string has been written to random.txt\n",
    "\n",
    "# Example 2:\n",
    "    # Please enter the string you want to write to the file: Hello Mandy!\n",
    "    # Please enter the file path where you want to write the string: does_not_exist.txt\n",
    "    # The file does not exist at the specified path.\n",
    "\n",
    "# Things to note\n",
    "    # Before trying to open the file, make sure it exists. Ensure that the user inputs the text before the file path.\n",
    "\n",
    "# Hint:\n",
    "    # import os\n",
    "    # os.path.isfile\n",
    "\n",
    "import os\n",
    "\n",
    "# Get the reminder and file path from the user\n",
    "reminder = input(\"Please enter the string you want to write to the file: \")\n",
    "file_path = input(\"Please enter the file path where you want to write the string: \")\n",
    "\n",
    "# Check if the file exists\n",
    "if os.path.isfile(file_path):\n",
    "    # Open the file and write the reminder\n",
    "    with open(file_path, 'w') as file:\n",
    "        file.write(reminder)\n",
    "    print(\"The string has been written to\", file_path)\n",
    "else:\n",
    "    print(\"The file does not exist at the specified path.\")"
   ]
  },
  {
   "cell_type": "code",
   "execution_count": null,
   "metadata": {},
   "outputs": [],
   "source": [
    "import csv\n",
    "\n",
    "# Global variables to store the last search query and its results\n",
    "last_query = None\n",
    "last_results = None\n",
    "\n",
    "def load_films(file_path):\n",
    "    films = []\n",
    "    with open(file_path, 'r') as file:\n",
    "        reader = csv.DictReader(file)\n",
    "        for row in reader:\n",
    "            films.append(row)\n",
    "    return films\n",
    "\n",
    "def search_film(films, query):\n",
    "    global last_query, last_results\n",
    "\n",
    "    # If the query is \"last\", display the last search query and its results\n",
    "    if query.lower() == \"last\":\n",
    "        print(f\"Last query: {last_query}\")\n",
    "        print(f\"Found {len(last_results)} results.\")\n",
    "        for film in last_results:\n",
    "            print(f\"\\nTitle: {film['title']}\\nDirector: {film['director']}\\nYear: {film['year']}\\nGenre: {film['genre']}\\n{'-'*40}\")\n",
    "        return\n",
    "\n",
    "    # Split the query into multiple terms\n",
    "    terms = query.split()\n",
    "\n",
    "    # Search for each term separately and combine the results\n",
    "    results = [film for film in films for term in terms if term.lower() in film['title'].lower() or term.lower() in film['director'].lower() or term.lower() in str(film['year']).lower() or term.lower() in film['genre'].lower()]\n",
    "\n",
    "    print(f\"Found {len(results)} results.\")\n",
    "    for film in results:\n",
    "        print(f\"\\nTitle: {film['title']}\\nDirector: {film['director']}\\nYear: {film['year']}\\nGenre: {film['genre']}\\n{'-'*40}\")\n",
    "\n",
    "    # Store the query and its results in the global variables\n",
    "    last_query = query\n",
    "    last_results = results\n",
    "\n",
    "# Print a welcome message\n",
    "print(\"LeBron James is the real GOAT, read that again.\")\n",
    "\n",
    "# Load the films from the CSV file\n",
    "films = load_films(\"movies.csv\")\n",
    "\n",
    "# Ask the user for a search term\n",
    "search_term = input(\"Search for a movie: \")\n",
    "\n",
    "# Search for the term in the films\n",
    "search_film(films, search_term)"
   ]
  },
  {
   "cell_type": "code",
   "execution_count": 1,
   "metadata": {},
   "outputs": [
    {
     "name": "stdout",
     "output_type": "stream",
     "text": [
      "unhtHYK{w0yfy1ts_i3hwduy3i_429fk00k}\n"
     ]
    }
   ],
   "source": [
    "def decrypt(text, key):\n",
    "    decrypted_text = \"\"\n",
    "    for char in text:\n",
    "        if char.isalpha():\n",
    "            ascii_offset = ord('a') if char.islower() else ord('A')\n",
    "            decrypted_char = chr((ord(char) - ascii_offset - key) % 26 + ascii_offset)\n",
    "            decrypted_text += decrypted_char\n",
    "        else:\n",
    "            decrypted_text += char\n",
    "    return decrypted_text\n",
    "\n",
    "encrypted_text = \"xqkwKBN{z0bib1wv_l3kzgxb3l_429in00n}\"\n",
    "key = 3\n",
    "decrypted_text = decrypt(encrypted_text, key)\n",
    "print(decrypted_text)\n"
   ]
  },
  {
   "cell_type": "code",
   "execution_count": null,
   "metadata": {},
   "outputs": [],
   "source": [
    "import collections\n",
    "\n",
    "# Snippet from study-guide.txt\n",
    "study_guide = \"\"\"\n",
    "kqsiaxta\n",
    "miswtwjor\n",
    "otfxuwvoxl\n",
    "crwtnrtar\n",
    "\"\"\"\n",
    "\n",
    "# Frequency analysis\n",
    "letter_frequency = collections.Counter(study_guide.replace('\\n', ''))\n",
    "print(letter_frequency)\n",
    "\n",
    "# This step involves manual matching and logical deduction based on letter frequencies and common patterns.\n",
    "# Here, we will create a possible mapping based on our analysis.\n",
    "# Example mapping (this will be derived logically and might need adjustments):\n",
    "# encrypted -> decrypted\n",
    "# k -> e\n",
    "# q -> t\n",
    "# s -> a\n",
    "# i -> o\n",
    "# a -> i\n",
    "# x -> n\n",
    "# t -> r\n",
    "# ...\n",
    "\n",
    "# For demonstration, assume we figured out the mapping.\n",
    "decryption_dict = {\n",
    "    'k': 'e', 'q': 't', 's': 'a', 'i': 'o', 'a': 'i', 'x': 'n', 't': 'r',\n",
    "    'm': 'h', 'w': 's', 'j': 'c', 'o': 'd', 'r': 'l', 'c': 'm',\n",
    "    'f': 'u', 'u': 'b', 'v': 'p', 'n': 'y', 'y': 'g', 'b': 'v',\n",
    "    'd': 'k', 'g': 'f', 'h': 'w', 'l': 'z', 'p': 'x', 'z': 'j'\n",
    "}\n"
   ]
  }
 ],
 "metadata": {
  "kernelspec": {
   "display_name": "Python 3",
   "language": "python",
   "name": "python3"
  },
  "language_info": {
   "codemirror_mode": {
    "name": "ipython",
    "version": 3
   },
   "file_extension": ".py",
   "mimetype": "text/x-python",
   "name": "python",
   "nbconvert_exporter": "python",
   "pygments_lexer": "ipython3",
   "version": "3.12.3"
  }
 },
 "nbformat": 4,
 "nbformat_minor": 2
}
