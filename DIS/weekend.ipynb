{
 "cells": [
  {
   "cell_type": "markdown",
   "metadata": {},
   "source": [
    "## Recap and Conventions"
   ]
  },
  {
   "cell_type": "markdown",
   "metadata": {},
   "source": [
    "29 June '24"
   ]
  },
  {
   "cell_type": "markdown",
   "metadata": {},
   "source": [
    "### Pep Talk"
   ]
  },
  {
   "cell_type": "code",
   "execution_count": 1,
   "metadata": {},
   "outputs": [
    {
     "name": "stdout",
     "output_type": "stream",
     "text": [
      "Total Sum: 3\n",
      "Total Product: 12\n",
      "Total Difference: -1\n",
      "Total Quotient: 0.875\n"
     ]
    }
   ],
   "source": [
    "list_of_numbers = [1, 2, 3, 4, 5, 6, 7, 8, 9, 10]\n",
    "\n",
    "def calc_sum(x, y):\n",
    "    \"\"\"Calculate sum of two numbers.\"\"\"\n",
    "    return x + y\n",
    "\n",
    "def calc_product(x, y):\n",
    "    \"\"\"Calculate product of two numbers.\"\"\"\n",
    "    return x * y\n",
    "\n",
    "def calc_difference(x, y):\n",
    "    \"\"\"Calculate difference between two numbers.\"\"\"\n",
    "    return x - y\n",
    "\n",
    "def calc_quotient(x, y):\n",
    "    \"\"\"Calculate quotient of two numbers.\"\"\"\n",
    "    if y == 0:\n",
    "        print(\"Error: Cannot divide by zero.\")  # Error message if user tries to divide by zero\n",
    "        return None\n",
    "    else:\n",
    "        return x / y\n",
    "\n",
    "# Calculate the sum of the first two numbers in the list\n",
    "total_sum = calc_sum(list_of_numbers[0], list_of_numbers[1])\n",
    "print(\"Total Sum:\", total_sum)\n",
    "\n",
    "# Calculate the product of the third and fourth numbers in the list\n",
    "total_product = calc_product(list_of_numbers[2], list_of_numbers[3])\n",
    "print(\"Total Product:\", total_product)\n",
    "\n",
    "# Calculate the difference between the fifth and sixth numbers in the list\n",
    "total_difference = calc_difference(list_of_numbers[4], list_of_numbers[5])\n",
    "print(\"Total Difference:\", total_difference)\n",
    "\n",
    "# Calculate the quotient of the seventh and eighth numbers in the list\n",
    "total_quotient = calc_quotient(list_of_numbers[6], list_of_numbers[7])\n",
    "print(\"Total Quotient:\", total_quotient)\n"
   ]
  },
  {
   "cell_type": "markdown",
   "metadata": {},
   "source": [
    "### What's Up Doc"
   ]
  },
  {
   "cell_type": "code",
   "execution_count": 38,
   "metadata": {},
   "outputs": [
    {
     "name": "stdout",
     "output_type": "stream",
     "text": [
      "Random List: [21, 31, 20, 4, 43, 34, 3, 9, 28, 35]\n",
      "Even Numbers: [2, 4, 6, 8, 10]\n",
      "Prime Numbers: [2, 3, 5, 7]\n",
      "Sum: 55\n"
     ]
    }
   ],
   "source": [
    "\"\"\" Instructions\n",
    "    Someone has stolen all of the function names, variables names and documentation!\n",
    "    Understand what this code does, and restore the missing variable and function names, and the documentation.\n",
    "\"\"\"\n",
    "\n",
    "import random\n",
    "\n",
    "# Function to generate a list of random numbers within a given range\n",
    "def generate_random_num_list(size, lower_bound, upper_bound):\n",
    "    \"\"\" Generate a list of random integers within a specified range.\n",
    "    \n",
    "    Args:\n",
    "        size: The number of random integers to generate.\n",
    "        lower_bound: The lower bound of the range (INCLUSIVE).\n",
    "        upper_bound: The upper bound of the range (INCLUSIVE).\n",
    "\n",
    "    Returns:\n",
    "        A list of random integers within the specified range.\n",
    "    \"\"\"\n",
    "    result = []\n",
    "    for _ in range(size):\n",
    "        result.append(random.randint(lower_bound, upper_bound))\n",
    "    return result\n",
    "\n",
    "# Function to filter out even numbers from a list\n",
    "def filter_even_num(numbers):\n",
    "    even_numbers = []\n",
    "    for num in numbers:\n",
    "        if num % 2 == 0:\n",
    "            even_numbers.append(num)\n",
    "    return even_numbers\n",
    "\n",
    "# Function to filter out prime numbers from a list\n",
    "def filter_prime_num(numbers):\n",
    "    prime_num_list = []\n",
    "    for num in numbers:\n",
    "        if num < 2:\n",
    "            continue\n",
    "        for i in range(2, int(num ** 0.5) + 1): # Check if the number is prime by dividing it with all numbers from 2 to the square root of the number\n",
    "            if num % i == 0: # If num can be divided by any number in the range that is not 1 or itself, it is not prime\n",
    "                break\n",
    "        else:\n",
    "            prime_num_list.append(num)\n",
    "    return prime_num_list\n",
    "\n",
    "# Function to calculate the sum of a list of numbers\n",
    "def calc_sum(numbers):\n",
    "    return sum(numbers)\n",
    "    \n",
    "# Calling functions\n",
    "random_num = generate_random_num_list(10, 1, 50)\n",
    "print(\"Random List:\", random_num)\n",
    "\n",
    "even_num = filter_even_num([1, 2, 3, 4, 5, 6, 7, 8, 9, 10])\n",
    "print(\"Even Numbers:\", even_num)\n",
    "\n",
    "prime_num = filter_prime_num([1, 2, 3, 4, 5, 6, 7, 8, 9, 10])\n",
    "print(\"Prime Numbers:\", prime_num)\n",
    "\n",
    "sum_value = calc_sum([1, 2, 3, 4, 5, 6, 7, 8, 9, 10])\n",
    "print(\"Sum:\", sum_value)\n"
   ]
  },
  {
   "cell_type": "markdown",
   "metadata": {},
   "source": [
    "### It's Time"
   ]
  },
  {
   "cell_type": "code",
   "execution_count": 42,
   "metadata": {},
   "outputs": [
    {
     "name": "stdout",
     "output_type": "stream",
     "text": [
      "Starting task 'writing'...\n",
      "Press Enter to stop the task...\n",
      "Task 'writing' completed in 4.086956739425659 seconds.\n",
      "\n",
      "Starting task 'playing'...\n",
      "Press Enter to stop the task...\n",
      "Task 'playing' completed in 7.906926393508911 seconds.\n",
      "\n",
      "\n",
      "All tasks and their durations:\n",
      "writing: 4.09 seconds\n",
      "playing: 7.91 seconds\n"
     ]
    }
   ],
   "source": [
    "\"\"\" Alex envisions a simple yet powerful tool: a Task Timer, designed to meticulously track the duration of various activities throughout his day.\n",
    "\n",
    "Your task:\n",
    "    Create a Python script that allows users to repeatedly start and stop a timer for given tasks.\n",
    "    After each task is completed, the script will print the duration of the task, then ask for the next task name.\n",
    "    If the user enters \"exit\" instead of a task name, the script will stop and print a summary of all tasks and their respective durations.\n",
    "    Refer to the example output below to see how the script is to be used.\n",
    "\n",
    "Guidelines:\n",
    "    Use time.time() to capture the start and end times of tasks.\n",
    "    This functions returns a timestamp - a number that represents each moment in time, and increases by 1 in each second.\n",
    "\n",
    "Example:\n",
    "    import time\n",
    "    now = time.time()\n",
    "\n",
    "    Calculate the elapsed time for each task and store it in a dictionary.\n",
    "    After the user has finished timing tasks, print a summary of all tasks and their durations.\n",
    "    \n",
    "    Example output\n",
    "        Enter the task name to start (or 'exit' to stop): Writing report\n",
    "        Starting task 'Writing report'...\n",
    "        Press Enter to stop the task... \n",
    "        Task 'Writing report' completed in 42.95 seconds.\n",
    "\n",
    "        Enter the task name to start (or 'exit' to stop): Reading\n",
    "        Starting task 'Reading'...\n",
    "        Press Enter to stop the task... \n",
    "        Task 'Reading' completed in 113.39 seconds.\n",
    "\n",
    "        Enter the task name to start (or 'exit' to stop): exit\n",
    "\n",
    "        All tasks and their durations:\n",
    "        Writing report: 42.95 seconds\n",
    "        Reading: 113.39 seconds\n",
    "\"\"\"\n",
    "\n",
    "import time\n",
    "\n",
    "task_dictionary = {}\n",
    "\n",
    "now = time.time()\n",
    "\n",
    "task_name = input(\"Enter the task name to start (or 'exit' to stop): \")\n",
    "\n",
    "while task_name != \"exit\":\n",
    "    print(f\"Starting task '{task_name}'...\")\n",
    "    \n",
    "    input(print(\"Press Enter to stop the task...\")) # Wait for user to press Enter\n",
    "\n",
    "    total_task_time = time.time() - now\n",
    "    task_dictionary[task_name] = round(total_task_time, 2) # Round to 2 decimal places using round()\n",
    "\n",
    "    print(f\"Task '{task_name}' completed in {total_task_time:.2f} seconds.\\n\")\n",
    "    \n",
    "    task_name = input(\"Enter the task name to start (or 'exit' to stop): \")\n",
    "\n",
    "else:\n",
    "    print(\"\\nAll tasks and their durations:\")\n",
    "    for task_name, total_task_time in task_dictionary.items():\n",
    "        print(f\"{task_name}: {total_task_time} seconds\")\n"
   ]
  },
  {
   "cell_type": "markdown",
   "metadata": {},
   "source": [
    "### Masterchef"
   ]
  },
  {
   "cell_type": "code",
   "execution_count": null,
   "metadata": {},
   "outputs": [],
   "source": [
    "\"\"\" Your task is to create a Python script that scales the recipe's ingredients based on the desired number of servings.\n",
    "\n",
    "Your program should:\n",
    "    Ask for the desired number of servings\n",
    "    Prompt the user to input the number of servings they intend to make\n",
    "\n",
    "Adjust the Recipe:\n",
    "    Calculate the new quantities for each ingredient, based on the new number of servings.\n",
    "    Print the new quantities for each ingredient.\n",
    "\n",
    "Example Recipe\n",
    "    This is a dictionary representing the original recipe ingredients for 2 servings:\n",
    "\n",
    "    ingredients = {\n",
    "        \"flour (cups)\": 2,\n",
    "        \"sugar (cups)\": 1,\n",
    "        \"eggs\": 2,\n",
    "        \"milk (cups)\": 1,\n",
    "        \"butter (cups)\": 0.5,\n",
    "    }\n",
    "\n",
    "Example output:\n",
    "    Desired number of servings: 8\n",
    "\n",
    "    Original Recipe Ingredients:\n",
    "    flour (cups): 2\n",
    "    sugar (cups): 1\n",
    "    eggs: 2\n",
    "    milk (cups): 1\n",
    "    butter (cups): 0.5\n",
    "\n",
    "    New recipe quantities:\n",
    "    flour (cups): 8.00\n",
    "    sugar (cups): 4.00\n",
    "    eggs: 8.00\n",
    "    milk (cups): 4.00\n",
    "    butter (cups): 2.00\n",
    "\n",
    "Guidelines:\n",
    "    Make sure that your code is well-organized and readable, using the PEP8 conventions.\n",
    "    Ensure your script is well-commented to explain the logic behind your calculations.\n",
    "\"\"\"\n",
    "\n",
    "ingredients = {\n",
    "    \"flour (cups)\": 2,\n",
    "    \"sugar (cups)\": 1,\n",
    "    \"eggs\": 2,\n",
    "    \"milk (cups)\": 1,\n",
    "    \"butter (cups)\": 0.5,\n",
    "}\n"
   ]
  },
  {
   "cell_type": "markdown",
   "metadata": {},
   "source": [
    "## Debugging"
   ]
  },
  {
   "cell_type": "markdown",
   "metadata": {},
   "source": [
    "### Live Demo"
   ]
  },
  {
   "cell_type": "markdown",
   "metadata": {},
   "source": [
    "This document outlines a live demo for debugging an email validation script in Python using `pdb`, Python's built-in debugger.\n",
    "\n",
    "#### Step 1: Introduce the Script\n",
    "\n",
    "The script, `example.py`, is designed to validate that an input email address contains both an \"@\" character and a \".\" *after* the \"@\" but contains a logical error.\n",
    "\n",
    "#### Step 2: Initial Run\n",
    "\n",
    "Execute `example.py` and test with various email addresses to demonstrate the bug.\n",
    "\n",
    "- Valid email: \"name@example.com\"\n",
    "- Invalid email that gets incorrectly validated: \"first.name@example\"\n",
    "\n",
    "#### Step 3: Start a `pdb` Session\n",
    "\n",
    "To begin debugging, insert the following line at the start of the script:\n",
    "\n",
    "```python\n",
    "import pdb; pdb.set_trace()\n",
    "```\n",
    "\n",
    "Alternatively, run the script with `pdb` from the command line:\n",
    "\n",
    "```bash\n",
    "python -m pdb example.py\n",
    "```\n",
    "\n",
    "#### Step 4: Use `pdb` to Identify the Bug\n",
    "\n",
    "Use `pdb` commands to step through the execution:\n",
    "\n",
    "- `n` (next): Move to the next line.\n",
    "- `p variable_name` (print): Inspect variable states.\n",
    "\n",
    "Identify that the script incorrectly slices the email string before the \"@\" character to check for a dot, leading to improper validation.\n",
    "\n",
    "#### Step 5: Pinpoint the Error\n",
    "\n",
    "The error lies in the logic checking for the dot's presence. The script should check the substring after the \"@\" character.\n",
    "\n",
    "#### Step 6: Correct the Bug\n",
    "\n",
    "Update the script to correctly slice the email string after the \"@\" character:\n",
    "\n",
    "```python\n",
    "# Corrected slicing\n",
    "domain_part = email[index+1:]  # Focus on the part after \"@\"\n",
    "\n",
    "if '.' in domain_part:\n",
    "    is_valid = True\n",
    "```\n",
    "\n",
    "#### Step 7: Verify the Fix\n",
    "\n",
    "Remove or comment out `pdb.set_trace()` and rerun the script to demonstrate the successful fix.\n",
    "\n",
    "#### Step 8: Wrap-Up\n",
    "\n",
    "Conclude the demo by summarizing the debugging steps taken, emphasizing the value of `pdb` in the debugging process, and encouraging questions and further discussion on debugging strategies and techniques."
   ]
  },
  {
   "cell_type": "markdown",
   "metadata": {},
   "source": [
    "### Example"
   ]
  },
  {
   "cell_type": "code",
   "execution_count": null,
   "metadata": {},
   "outputs": [],
   "source": [
    "is_valid = False\n",
    "\n",
    "while not is_valid:\n",
    "    email = input(\"Enter an email address:\")\n",
    "\n",
    "    # Check if there is @ in the email\n",
    "    if ('@' in email) and not email.startswith('@'):\n",
    "        index = email.find('@')\n",
    "        sliced_email = email[:index]\n",
    "\n",
    "        # Check if there is a dot after the @ character\n",
    "        if '.' in sliced_email:\n",
    "            is_valid = True\n",
    "\n",
    "print(\"The email: \" + email + \" is valid\")\n"
   ]
  },
  {
   "cell_type": "markdown",
   "metadata": {},
   "source": [
    "### Solution"
   ]
  },
  {
   "cell_type": "code",
   "execution_count": 43,
   "metadata": {},
   "outputs": [
    {
     "name": "stdout",
     "output_type": "stream",
     "text": [
      "The email: tom@gmail.com is valid\n"
     ]
    }
   ],
   "source": [
    "is_valid = False\n",
    "\n",
    "while not is_valid:\n",
    "    email = input(\"Enter an email address:\")\n",
    "\n",
    "    # Check if there is @ in the email\n",
    "    if ('@' in email) and not email.startswith('@'):\n",
    "        index = email.find('@')\n",
    "        sliced_email = email[index:] # Change the slicing to get the characters after the @ character\n",
    "\n",
    "        # Check if there is a dot after the @ character\n",
    "        if '.' in sliced_email:\n",
    "            is_valid = True\n",
    "\n",
    "print(\"The email: \" + email + \" is valid\")\n"
   ]
  },
  {
   "cell_type": "markdown",
   "metadata": {},
   "source": [
    "### Bug Hunter 1"
   ]
  },
  {
   "cell_type": "code",
   "execution_count": null,
   "metadata": {},
   "outputs": [],
   "source": [
    "def calculate_area(radius):\n",
    "    pi = 3.14    \n",
    "    area = pi * raidus ** 2\n",
    "    return area\n",
    "\n",
    "print(calculate_area(5))"
   ]
  },
  {
   "cell_type": "code",
   "execution_count": 44,
   "metadata": {},
   "outputs": [
    {
     "name": "stdout",
     "output_type": "stream",
     "text": [
      "78.5\n"
     ]
    }
   ],
   "source": [
    "def calculate_area(radius):\n",
    "    pi = 3.14    \n",
    "    area = pi * radius ** 2 # Typo in the variable name 'raidus'\n",
    "    return area \n",
    "\n",
    "print(calculate_area(5))"
   ]
  },
  {
   "cell_type": "markdown",
   "metadata": {},
   "source": [
    "### Bug Hunter 2"
   ]
  },
  {
   "cell_type": "code",
   "execution_count": null,
   "metadata": {},
   "outputs": [],
   "source": [
    "def is_even(number):    \n",
    "    if number % 2 == 1:        \n",
    "        return True    \n",
    "    else:        \n",
    "        return False\n",
    "    \n",
    "print(is_even(4)) # 4 should be even"
   ]
  },
  {
   "cell_type": "code",
   "execution_count": 48,
   "metadata": {},
   "outputs": [
    {
     "name": "stdout",
     "output_type": "stream",
     "text": [
      "True\n"
     ]
    }
   ],
   "source": [
    "def is_even(number):    \n",
    "    if number % 2 == 0: # Changed from == 1 to == 0 to check if the number is even        \n",
    "        return True    \n",
    "    else:        \n",
    "        return False\n",
    "    \n",
    "print(is_even(4)) # 4 should be even"
   ]
  },
  {
   "cell_type": "markdown",
   "metadata": {},
   "source": [
    "### Bug Hunter 3"
   ]
  },
  {
   "cell_type": "code",
   "execution_count": null,
   "metadata": {},
   "outputs": [],
   "source": [
    "def sum_positive_numbers_only(numbers):    \n",
    "    total = 0    \n",
    "    for number in numbers:        \n",
    "        if number > 0:            \n",
    "            number_is_positive = True        \n",
    "        total += number    \n",
    "    return total\n",
    "\n",
    "numbers_list = [1, -2, 3, 4, -5, 6]\n",
    "print(sum_positive_numbers_only(numbers_list))  # Expected: 14"
   ]
  },
  {
   "cell_type": "code",
   "execution_count": 50,
   "metadata": {},
   "outputs": [
    {
     "name": "stdout",
     "output_type": "stream",
     "text": [
      "14\n"
     ]
    }
   ],
   "source": [
    "def sum_positive_numbers_only(numbers):    \n",
    "    total = 0    \n",
    "    for number in numbers:        \n",
    "        if number > 0:            \n",
    "        # number_is_positive = True Removed this line as it is not needed  \n",
    "            total += number # Indentation error, this line should be inside the if block\n",
    "    return total\n",
    "\n",
    "numbers_list = [1, -2, 3, 4, -5, 6]\n",
    "print(sum_positive_numbers_only(numbers_list))  # Expected: 14"
   ]
  },
  {
   "cell_type": "markdown",
   "metadata": {},
   "source": [
    "### Bug Hunter 4"
   ]
  },
  {
   "cell_type": "code",
   "execution_count": 2,
   "metadata": {},
   "outputs": [
    {
     "name": "stdout",
     "output_type": "stream",
     "text": [
      "[1, 3, -5, 6, -8]\n"
     ]
    }
   ],
   "source": [
    "def remove_negatives(numbers):    \n",
    "    for number in numbers:        \n",
    "        if number < 0:            \n",
    "            numbers.remove(number)    \n",
    "    return numbers\n",
    "\n",
    "numbers_list = [1, -2, 3, -4, -5, 6, -7, -8]\n",
    "print(remove_negatives(numbers_list))  # Expected: [1, 3, 6]"
   ]
  },
  {
   "cell_type": "code",
   "execution_count": 1,
   "metadata": {},
   "outputs": [
    {
     "name": "stdout",
     "output_type": "stream",
     "text": [
      "[1, 3, 6]\n"
     ]
    }
   ],
   "source": [
    "def remove_negatives(numbers):    \n",
    "    for number in numbers[:]: # Iterate over a copy of the list to avoid modifying the list while iterating\n",
    "        if number < 0:            \n",
    "            numbers.remove(number)    \n",
    "    return numbers\n",
    "\n",
    "numbers_list = [1, -2, 3, -4, -5, 6, -7, -8]\n",
    "print(remove_negatives(numbers_list))  # Expected: [1, 3, 6]"
   ]
  },
  {
   "cell_type": "code",
   "execution_count": 1,
   "metadata": {},
   "outputs": [
    {
     "name": "stdout",
     "output_type": "stream",
     "text": [
      "[1, 3, 6]\n"
     ]
    }
   ],
   "source": [
    "# Program does not remove all negative numbers from the list\n",
    "# This is because the loop skips some elements when removing negative numbers\n",
    "# This is because the list is modified while iterating over it\n",
    "# To fix this, we can create a new list to store the positive numbers and return it\n",
    "numbers_list = [1, -2, 3, -4, -5, 6, -7, -8]\n",
    "\n",
    "def remove_negatives(numbers):    \n",
    "    positive_numbers = []    \n",
    "    for number in numbers:        \n",
    "        if number >= 0:            \n",
    "            positive_numbers.append(number)    \n",
    "    return positive_numbers\n",
    "\n",
    "print(remove_negatives(numbers_list))"
   ]
  },
  {
   "cell_type": "markdown",
   "metadata": {},
   "source": [
    "### Debug Prints"
   ]
  },
  {
   "cell_type": "code",
   "execution_count": null,
   "metadata": {},
   "outputs": [],
   "source": [
    "def remove_books_by_author(inventory, author_to_remove):\n",
    "    \"\"\"\n",
    "    Attempts to remove all books by a specified author from the inventory.\n",
    "    \n",
    "    Parameters:\n",
    "        - inventory: List of dictionaries, where each dictionary represents a book with 'title' and 'author'.\n",
    "        - author_to_remove: String, the name of the author whose books should be removed.\n",
    "    \"\"\"\n",
    "\n",
    "    for index in range(len(inventory)):\n",
    "        if inventory[index]['author'] == author_to_remove:\n",
    "            del inventory[index]\n",
    "    return inventory"
   ]
  },
  {
   "cell_type": "markdown",
   "metadata": {},
   "source": [
    "### PDB"
   ]
  },
  {
   "cell_type": "code",
   "execution_count": null,
   "metadata": {},
   "outputs": [],
   "source": []
  },
  {
   "cell_type": "markdown",
   "metadata": {},
   "source": [
    "### The Bookstore Revenge"
   ]
  },
  {
   "cell_type": "code",
   "execution_count": null,
   "metadata": {},
   "outputs": [],
   "source": []
  },
  {
   "cell_type": "markdown",
   "metadata": {},
   "source": [
    "### Homework"
   ]
  },
  {
   "cell_type": "markdown",
   "metadata": {},
   "source": [
    "- its_time exercise (Recap & Convention)\n",
    "- Bug Hunter 4 (Debugging)\n",
    "- List Comprehension (Ex 2 + 3)\n",
    "- Classes (Ex 2 + 3)"
   ]
  },
  {
   "cell_type": "markdown",
   "metadata": {},
   "source": [
    "### Common Exceptions"
   ]
  },
  {
   "cell_type": "markdown",
   "metadata": {},
   "source": [
    "1. ```IndexError```\n",
    "Trying to access index out of range.\n",
    "\n",
    "2. ```TypeError```\n",
    "Operation not compatible with type.\n",
    "\n",
    "3. ```NameError```\n",
    "Python doesn't know variable name.\n",
    "\n",
    "4. ```ZeroDivisionError```\n",
    "Dividing by zero."
   ]
  },
  {
   "cell_type": "markdown",
   "metadata": {},
   "source": [
    "### Illegal Numbers"
   ]
  },
  {
   "cell_type": "code",
   "execution_count": 5,
   "metadata": {},
   "outputs": [
    {
     "name": "stdout",
     "output_type": "stream",
     "text": [
      "Cannot divide by zero!\n",
      "\n"
     ]
    }
   ],
   "source": [
    "\"\"\"\n",
    "Objective\n",
    "    The goal of this exercise is to familiarize you with the basics of handling exceptions in Python. You will create a function that attempts to divide two numbers provided by the user, implementing error handling to gracefully manage division by zero and input errors.\n",
    "\n",
    "Task\n",
    "    Write a Python script that performs the following:\n",
    "\n",
    "Prompt User for Input:\n",
    "    Ask the user to input two numbers, numerator and denominator.\n",
    "\n",
    "Perform Division:\n",
    "    Attempt to divide the numerator by the denominator and print the result.\n",
    "\n",
    "Handle Exceptions:\n",
    "    Implement error handling to catch and respond to the following potential issues:\n",
    "    Division by zero (ZeroDivisionError).\n",
    "    Non-numeric input (ValueError).\n",
    "\n",
    "User Feedback:\n",
    "    If an exception occurs, print an appropriate message to the user. For example:\n",
    "    If the user attempts division by zero, print \"Error: Cannot divide by zero.\"\n",
    "    If the user enters a non-numeric value, print \"Error: Please enter a valid number.\"\n",
    "\n",
    "Ensure Program Continuity:\n",
    "    Regardless of whether an exception occurs, prompt the user to try again or exit the program gracefully.\n",
    "\n",
    "Example Output\n",
    "    Enter the numerator: 10\n",
    "    Enter the denominator: 2\n",
    "    Result: 5.0\n",
    "\n",
    "    Try again? (y/[n]): y\n",
    "    Enter the numerator: 10\n",
    "    Enter the denominator: 0\n",
    "    Cannot divide by zero!\n",
    "\n",
    "    Try again? (y/[n]): y\n",
    "    Enter the numerator: abc\n",
    "    Please enter a valid number.\n",
    "\n",
    "    Try again? (y/[n]): n\n",
    "\n",
    "Guidelines\n",
    "    Use try and except blocks to handle exceptions.\n",
    "    Utilize a loop to allow the user multiple attempts until they choose to exit.\n",
    "    Ensure your code is clean and well-commented to explain your logic.\n",
    "\"\"\"\n",
    "\n",
    "def illegal_numbers_exercise():\n",
    "    while True:\n",
    "        try:\n",
    "            numerator = int(input(\"Enter the numerator: \"))\n",
    "            denominator = int(input(\"Enter the denominator: \"))\n",
    "\n",
    "            result = numerator / denominator\n",
    "            print(\"Result:\", result)\n",
    "\n",
    "        # When user inputs 0 as the denominator\n",
    "        except ZeroDivisionError:\n",
    "            print(\"Cannot divide by zero!\\n\")\n",
    "\n",
    "        except ValueError:\n",
    "            print(\"Please enter a valid number.\\n\")\n",
    "\n",
    "        else:\n",
    "            break\n",
    "\n",
    "        finally:\n",
    "            to_continue_calc = input(\"Try again? (y/[n]): \").lower()\n",
    "            if to_continue_calc == 'y':\n",
    "                continue\n",
    "\n",
    "            elif to_continue_calc == 'n':\n",
    "                break\n",
    "\n",
    "illegal_numbers_exercise()"
   ]
  },
  {
   "cell_type": "markdown",
   "metadata": {},
   "source": [
    "### Illegal Passwords"
   ]
  },
  {
   "cell_type": "code",
   "execution_count": 15,
   "metadata": {},
   "outputs": [
    {
     "name": "stdout",
     "output_type": "stream",
     "text": [
      "Password is too weak.\n",
      "Password is too weak.\n"
     ]
    }
   ],
   "source": [
    "\"\"\"\n",
    "Create a function that accepts a username and password. If the password is considered weak (criteria include being \"password\", \"1234\", or the same as the username), raise a custom exception WeakPasswordError. The main program should catch this exception and prompt the user to enter a stronger password.\n",
    "\n",
    "Define a Custom Exception:\n",
    "    Create a custom exception class named WeakPasswordError that inherits from Exception.\n",
    "    Create a str method that shows a message - \"Password is too weak.\"\n",
    "\n",
    "Create the Validation Function:\n",
    "    Write a function validate_password(username, password) that checks the provided password against the weak password criteria:\n",
    "    The password should not be \"password\" or \"1234\".\n",
    "    The password should not be the same as the username.\n",
    "    If the password meets any of the weak criteria, raise WeakPasswordError.\n",
    "\n",
    "Implement the Main Program:\n",
    "    Prompt the user for their username and password.\n",
    "    Use a try-except block to catch WeakPasswordError.\n",
    "    If WeakPasswordError is caught, prompt the user to enter a stronger password.\n",
    "\"\"\"\n",
    "\n",
    "class WeakPasswordError(Exception):\n",
    "    def __str__(self):\n",
    "        return \"Password is too weak.\" \n",
    "\n",
    "def validate_password(username, password):\n",
    "    \"\"\"\n",
    "    Check for \"password\", \"1234\", password /= username\n",
    "    \"\"\"\n",
    "    # Use a list if there are multiple weak passwords\n",
    "    if password == \"password\" or password == \"1234\" or password == username:\n",
    "        raise WeakPasswordError()\n",
    "\n",
    "def main():\n",
    "    while True:\n",
    "        username = input(\"Enter a username: \")\n",
    "        password = input(\"Enter a password: \")\n",
    "\n",
    "        try:\n",
    "            validate_password(username, password)\n",
    "\n",
    "        except WeakPasswordError as e:\n",
    "            print(e)\n",
    "\n",
    "        else:\n",
    "            break\n",
    "\n",
    "main()\n"
   ]
  },
  {
   "cell_type": "markdown",
   "metadata": {},
   "source": [
    "### The Exceptionals"
   ]
  },
  {
   "cell_type": "code",
   "execution_count": null,
   "metadata": {},
   "outputs": [],
   "source": [
    "\"\"\"\n",
    "In the town of Raisington, a group of eccentric programmers have taken it upon themselves to master the art of raising exceptions in Python. \n",
    "However, in a twist of fate, the mayor of Raisington has banned the use of the raise keyword, claiming it's too \"alarming\" for the town's peaceful atmosphere. \n",
    "Undeterred, the programmers have tasked you, the town's most clever coder, to help them find creative ways to raise exceptions without using the forbidden keyword.\n",
    "\n",
    "Goal\n",
    "    Your goal is to outwit the mayor's ban on the raise keyword and assist the programmers of Raisington in their quest to master exceptions by implementing functions that intentionally raise specific exceptions without using the banned keyword.\n",
    "\n",
    "Your task\n",
    "    Implement the following functions, each causing their specified exception to be raised when called, without using the raise keyword.\n",
    "\n",
    "For example: raise_zero_division_error will raise ZeroDivisionError when called, without using the line raise ZeroDivisionError.\n",
    "    raise_zero_division_error()\n",
    "    raise_attribute_error()\n",
    "    raise_import_error()\n",
    "    raise_index_error()\n",
    "    raise_key_error()\n",
    "    raise_name_error()\n",
    "    raise_type_error()\n",
    "    raise_value_error()\n",
    "    raise_file_not_found_error()\n",
    "\n",
    "Use the the_exceptionals.py as a starting point.\n",
    "\"\"\""
   ]
  },
  {
   "cell_type": "code",
   "execution_count": 26,
   "metadata": {},
   "outputs": [
    {
     "ename": "ZeroDivisionError",
     "evalue": "division by zero",
     "output_type": "error",
     "traceback": [
      "\u001B[1;31m---------------------------------------------------------------------------\u001B[0m",
      "\u001B[1;31mZeroDivisionError\u001B[0m                         Traceback (most recent call last)",
      "Cell \u001B[1;32mIn[26], line 4\u001B[0m\n\u001B[0;32m      1\u001B[0m \u001B[38;5;28;01mdef\u001B[39;00m \u001B[38;5;21mraise_zero_division_error\u001B[39m():\n\u001B[0;32m      2\u001B[0m     \u001B[38;5;28;01mreturn\u001B[39;00m \u001B[38;5;241m1\u001B[39m \u001B[38;5;241m/\u001B[39m \u001B[38;5;241m0\u001B[39m\n\u001B[1;32m----> 4\u001B[0m \u001B[43mraise_zero_division_error\u001B[49m\u001B[43m(\u001B[49m\u001B[43m)\u001B[49m\n",
      "Cell \u001B[1;32mIn[26], line 2\u001B[0m, in \u001B[0;36mraise_zero_division_error\u001B[1;34m()\u001B[0m\n\u001B[0;32m      1\u001B[0m \u001B[38;5;28;01mdef\u001B[39;00m \u001B[38;5;21mraise_zero_division_error\u001B[39m():\n\u001B[1;32m----> 2\u001B[0m     \u001B[38;5;28;01mreturn\u001B[39;00m \u001B[38;5;241;43m1\u001B[39;49m\u001B[43m \u001B[49m\u001B[38;5;241;43m/\u001B[39;49m\u001B[43m \u001B[49m\u001B[38;5;241;43m0\u001B[39;49m\n",
      "\u001B[1;31mZeroDivisionError\u001B[0m: division by zero"
     ]
    }
   ],
   "source": [
    "def raise_zero_division_error():\n",
    "    return 1 / 0\n",
    "\n",
    "raise_zero_division_error()"
   ]
  },
  {
   "cell_type": "code",
   "execution_count": 28,
   "metadata": {},
   "outputs": [
    {
     "ename": "NameError",
     "evalue": "name 'this_attribute' is not defined",
     "output_type": "error",
     "traceback": [
      "\u001B[1;31m---------------------------------------------------------------------------\u001B[0m",
      "\u001B[1;31mNameError\u001B[0m                                 Traceback (most recent call last)",
      "Cell \u001B[1;32mIn[28], line 4\u001B[0m\n\u001B[0;32m      1\u001B[0m \u001B[38;5;28;01mdef\u001B[39;00m \u001B[38;5;21mraise_attribute_error\u001B[39m():\n\u001B[0;32m      2\u001B[0m     \u001B[38;5;28;01mreturn\u001B[39;00m this_attribute\n\u001B[1;32m----> 4\u001B[0m \u001B[43mraise_attribute_error\u001B[49m\u001B[43m(\u001B[49m\u001B[43m)\u001B[49m\n",
      "Cell \u001B[1;32mIn[28], line 2\u001B[0m, in \u001B[0;36mraise_attribute_error\u001B[1;34m()\u001B[0m\n\u001B[0;32m      1\u001B[0m \u001B[38;5;28;01mdef\u001B[39;00m \u001B[38;5;21mraise_attribute_error\u001B[39m():\n\u001B[1;32m----> 2\u001B[0m     \u001B[38;5;28;01mreturn\u001B[39;00m \u001B[43mthis_attribute\u001B[49m\n",
      "\u001B[1;31mNameError\u001B[0m: name 'this_attribute' is not defined"
     ]
    }
   ],
   "source": [
    "def raise_attribute_error():\n",
    "    return this_attribute\n",
    "\n",
    "raise_attribute_error()"
   ]
  },
  {
   "cell_type": "code",
   "execution_count": 32,
   "metadata": {},
   "outputs": [
    {
     "ename": "ModuleNotFoundError",
     "evalue": "No module named 'math1231212'",
     "output_type": "error",
     "traceback": [
      "\u001B[1;31m---------------------------------------------------------------------------\u001B[0m",
      "\u001B[1;31mModuleNotFoundError\u001B[0m                       Traceback (most recent call last)",
      "Cell \u001B[1;32mIn[32], line 1\u001B[0m\n\u001B[1;32m----> 1\u001B[0m \u001B[38;5;28;01mimport\u001B[39;00m \u001B[38;5;21;01mmath1231212\u001B[39;00m\n\u001B[0;32m      3\u001B[0m \u001B[38;5;28;01mdef\u001B[39;00m \u001B[38;5;21mraise_import_error\u001B[39m():\n\u001B[0;32m      4\u001B[0m     \u001B[38;5;28;01mreturn\u001B[39;00m\n",
      "\u001B[1;31mModuleNotFoundError\u001B[0m: No module named 'math1231212'"
     ]
    }
   ],
   "source": [
    "import math1231212\n",
    "\n",
    "def raise_import_error():\n",
    "    return\n",
    "\n",
    "raise_import_error()"
   ]
  },
  {
   "cell_type": "code",
   "execution_count": 25,
   "metadata": {},
   "outputs": [
    {
     "ename": "KeyError",
     "evalue": "'123'",
     "output_type": "error",
     "traceback": [
      "\u001B[1;31m---------------------------------------------------------------------------\u001B[0m",
      "\u001B[1;31mKeyError\u001B[0m                                  Traceback (most recent call last)",
      "Cell \u001B[1;32mIn[25], line 5\u001B[0m\n\u001B[0;32m      2\u001B[0m     \u001B[38;5;28mdict\u001B[39m \u001B[38;5;241m=\u001B[39m {\u001B[38;5;124m\"\u001B[39m\u001B[38;5;124mkey\u001B[39m\u001B[38;5;124m\"\u001B[39m: \u001B[38;5;124m\"\u001B[39m\u001B[38;5;124mvalue\u001B[39m\u001B[38;5;124m\"\u001B[39m}\n\u001B[0;32m      3\u001B[0m     \u001B[38;5;28;01mreturn\u001B[39;00m \u001B[38;5;28mdict\u001B[39m[\u001B[38;5;124m\"\u001B[39m\u001B[38;5;124m123\u001B[39m\u001B[38;5;124m\"\u001B[39m]\n\u001B[1;32m----> 5\u001B[0m \u001B[43mraise_key_error\u001B[49m\u001B[43m(\u001B[49m\u001B[43m)\u001B[49m\n",
      "Cell \u001B[1;32mIn[25], line 3\u001B[0m, in \u001B[0;36mraise_key_error\u001B[1;34m()\u001B[0m\n\u001B[0;32m      1\u001B[0m \u001B[38;5;28;01mdef\u001B[39;00m \u001B[38;5;21mraise_key_error\u001B[39m():\n\u001B[0;32m      2\u001B[0m     \u001B[38;5;28mdict\u001B[39m \u001B[38;5;241m=\u001B[39m {\u001B[38;5;124m\"\u001B[39m\u001B[38;5;124mkey\u001B[39m\u001B[38;5;124m\"\u001B[39m: \u001B[38;5;124m\"\u001B[39m\u001B[38;5;124mvalue\u001B[39m\u001B[38;5;124m\"\u001B[39m}\n\u001B[1;32m----> 3\u001B[0m     \u001B[38;5;28;01mreturn\u001B[39;00m \u001B[38;5;28;43mdict\u001B[39;49m\u001B[43m[\u001B[49m\u001B[38;5;124;43m\"\u001B[39;49m\u001B[38;5;124;43m123\u001B[39;49m\u001B[38;5;124;43m\"\u001B[39;49m\u001B[43m]\u001B[49m\n",
      "\u001B[1;31mKeyError\u001B[0m: '123'"
     ]
    }
   ],
   "source": [
    "def raise_key_error():\n",
    "    dict = {\"key\": \"value\"}\n",
    "    return dict[\"123\"]\n",
    "\n",
    "raise_key_error()"
   ]
  },
  {
   "cell_type": "code",
   "execution_count": 33,
   "metadata": {},
   "outputs": [
    {
     "ename": "NameError",
     "evalue": "name 'name' is not defined",
     "output_type": "error",
     "traceback": [
      "\u001B[1;31m---------------------------------------------------------------------------\u001B[0m",
      "\u001B[1;31mNameError\u001B[0m                                 Traceback (most recent call last)",
      "Cell \u001B[1;32mIn[33], line 4\u001B[0m\n\u001B[0;32m      1\u001B[0m \u001B[38;5;28;01mdef\u001B[39;00m \u001B[38;5;21mraise_name_error\u001B[39m():\n\u001B[0;32m      2\u001B[0m     \u001B[38;5;28;01mreturn\u001B[39;00m name\n\u001B[1;32m----> 4\u001B[0m \u001B[43mraise_name_error\u001B[49m\u001B[43m(\u001B[49m\u001B[43m)\u001B[49m\n",
      "Cell \u001B[1;32mIn[33], line 2\u001B[0m, in \u001B[0;36mraise_name_error\u001B[1;34m()\u001B[0m\n\u001B[0;32m      1\u001B[0m \u001B[38;5;28;01mdef\u001B[39;00m \u001B[38;5;21mraise_name_error\u001B[39m():\n\u001B[1;32m----> 2\u001B[0m     \u001B[38;5;28;01mreturn\u001B[39;00m \u001B[43mname\u001B[49m\n",
      "\u001B[1;31mNameError\u001B[0m: name 'name' is not defined"
     ]
    }
   ],
   "source": [
    "def raise_name_error():\n",
    "    return name\n",
    "\n",
    "raise_name_error()"
   ]
  },
  {
   "cell_type": "code",
   "execution_count": 35,
   "metadata": {},
   "outputs": [
    {
     "ename": "TypeError",
     "evalue": "can only concatenate str (not \"int\") to str",
     "output_type": "error",
     "traceback": [
      "\u001B[1;31m---------------------------------------------------------------------------\u001B[0m",
      "\u001B[1;31mTypeError\u001B[0m                                 Traceback (most recent call last)",
      "Cell \u001B[1;32mIn[35], line 4\u001B[0m\n\u001B[0;32m      1\u001B[0m \u001B[38;5;28;01mdef\u001B[39;00m \u001B[38;5;21mraise_type_error\u001B[39m():\n\u001B[0;32m      2\u001B[0m     \u001B[38;5;28;01mreturn\u001B[39;00m \u001B[38;5;124m\"\u001B[39m\u001B[38;5;124mabc\u001B[39m\u001B[38;5;124m\"\u001B[39m \u001B[38;5;241m+\u001B[39m \u001B[38;5;241m123\u001B[39m\n\u001B[1;32m----> 4\u001B[0m \u001B[43mraise_type_error\u001B[49m\u001B[43m(\u001B[49m\u001B[43m)\u001B[49m\n",
      "Cell \u001B[1;32mIn[35], line 2\u001B[0m, in \u001B[0;36mraise_type_error\u001B[1;34m()\u001B[0m\n\u001B[0;32m      1\u001B[0m \u001B[38;5;28;01mdef\u001B[39;00m \u001B[38;5;21mraise_type_error\u001B[39m():\n\u001B[1;32m----> 2\u001B[0m     \u001B[38;5;28;01mreturn\u001B[39;00m \u001B[38;5;124;43m\"\u001B[39;49m\u001B[38;5;124;43mabc\u001B[39;49m\u001B[38;5;124;43m\"\u001B[39;49m\u001B[43m \u001B[49m\u001B[38;5;241;43m+\u001B[39;49m\u001B[43m \u001B[49m\u001B[38;5;241;43m123\u001B[39;49m\n",
      "\u001B[1;31mTypeError\u001B[0m: can only concatenate str (not \"int\") to str"
     ]
    }
   ],
   "source": [
    "def raise_type_error():\n",
    "    return \"abc\" + 123\n",
    "\n",
    "raise_type_error()"
   ]
  },
  {
   "cell_type": "code",
   "execution_count": 36,
   "metadata": {},
   "outputs": [
    {
     "ename": "ValueError",
     "evalue": "could not convert string to float: 'abc'",
     "output_type": "error",
     "traceback": [
      "\u001B[1;31m---------------------------------------------------------------------------\u001B[0m",
      "\u001B[1;31mValueError\u001B[0m                                Traceback (most recent call last)",
      "Cell \u001B[1;32mIn[36], line 4\u001B[0m\n\u001B[0;32m      1\u001B[0m \u001B[38;5;28;01mdef\u001B[39;00m \u001B[38;5;21mraise_value_error\u001B[39m():\n\u001B[0;32m      2\u001B[0m     \u001B[38;5;28;01mreturn\u001B[39;00m \u001B[38;5;28mfloat\u001B[39m(\u001B[38;5;124m\"\u001B[39m\u001B[38;5;124mabc\u001B[39m\u001B[38;5;124m\"\u001B[39m)\n\u001B[1;32m----> 4\u001B[0m \u001B[43mraise_value_error\u001B[49m\u001B[43m(\u001B[49m\u001B[43m)\u001B[49m\n",
      "Cell \u001B[1;32mIn[36], line 2\u001B[0m, in \u001B[0;36mraise_value_error\u001B[1;34m()\u001B[0m\n\u001B[0;32m      1\u001B[0m \u001B[38;5;28;01mdef\u001B[39;00m \u001B[38;5;21mraise_value_error\u001B[39m():\n\u001B[1;32m----> 2\u001B[0m     \u001B[38;5;28;01mreturn\u001B[39;00m \u001B[38;5;28;43mfloat\u001B[39;49m\u001B[43m(\u001B[49m\u001B[38;5;124;43m\"\u001B[39;49m\u001B[38;5;124;43mabc\u001B[39;49m\u001B[38;5;124;43m\"\u001B[39;49m\u001B[43m)\u001B[49m\n",
      "\u001B[1;31mValueError\u001B[0m: could not convert string to float: 'abc'"
     ]
    }
   ],
   "source": [
    "def raise_value_error():\n",
    "    return float(\"abc\")\n",
    "\n",
    "raise_value_error()"
   ]
  },
  {
   "cell_type": "code",
   "execution_count": 38,
   "metadata": {},
   "outputs": [
    {
     "ename": "FileNotFoundError",
     "evalue": "[Errno 2] No such file or directory: 'thisFile.txt'",
     "output_type": "error",
     "traceback": [
      "\u001B[1;31m---------------------------------------------------------------------------\u001B[0m",
      "\u001B[1;31mFileNotFoundError\u001B[0m                         Traceback (most recent call last)",
      "Cell \u001B[1;32mIn[38], line 6\u001B[0m\n\u001B[0;32m      3\u001B[0m         data \u001B[38;5;241m=\u001B[39m file\u001B[38;5;241m.\u001B[39mread()\n\u001B[0;32m      4\u001B[0m         \u001B[38;5;28;01mreturn\u001B[39;00m data\n\u001B[1;32m----> 6\u001B[0m \u001B[43mraise_file_not_found_error\u001B[49m\u001B[43m(\u001B[49m\u001B[43m)\u001B[49m\n",
      "Cell \u001B[1;32mIn[38], line 2\u001B[0m, in \u001B[0;36mraise_file_not_found_error\u001B[1;34m()\u001B[0m\n\u001B[0;32m      1\u001B[0m \u001B[38;5;28;01mdef\u001B[39;00m \u001B[38;5;21mraise_file_not_found_error\u001B[39m():\n\u001B[1;32m----> 2\u001B[0m     \u001B[38;5;28;01mwith\u001B[39;00m \u001B[38;5;28;43mopen\u001B[39;49m\u001B[43m(\u001B[49m\u001B[38;5;124;43m\"\u001B[39;49m\u001B[38;5;124;43mthisFile.txt\u001B[39;49m\u001B[38;5;124;43m\"\u001B[39;49m\u001B[43m,\u001B[49m\u001B[43m \u001B[49m\u001B[38;5;124;43m\"\u001B[39;49m\u001B[38;5;124;43mr\u001B[39;49m\u001B[38;5;124;43m\"\u001B[39;49m\u001B[43m)\u001B[49m \u001B[38;5;28;01mas\u001B[39;00m file:\n\u001B[0;32m      3\u001B[0m         data \u001B[38;5;241m=\u001B[39m file\u001B[38;5;241m.\u001B[39mread()\n\u001B[0;32m      4\u001B[0m         \u001B[38;5;28;01mreturn\u001B[39;00m data\n",
      "File \u001B[1;32m~\\AppData\\Roaming\\Python\\Python312\\site-packages\\IPython\\core\\interactiveshell.py:324\u001B[0m, in \u001B[0;36m_modified_open\u001B[1;34m(file, *args, **kwargs)\u001B[0m\n\u001B[0;32m    317\u001B[0m \u001B[38;5;28;01mif\u001B[39;00m file \u001B[38;5;129;01min\u001B[39;00m {\u001B[38;5;241m0\u001B[39m, \u001B[38;5;241m1\u001B[39m, \u001B[38;5;241m2\u001B[39m}:\n\u001B[0;32m    318\u001B[0m     \u001B[38;5;28;01mraise\u001B[39;00m \u001B[38;5;167;01mValueError\u001B[39;00m(\n\u001B[0;32m    319\u001B[0m         \u001B[38;5;124mf\u001B[39m\u001B[38;5;124m\"\u001B[39m\u001B[38;5;124mIPython won\u001B[39m\u001B[38;5;124m'\u001B[39m\u001B[38;5;124mt let you open fd=\u001B[39m\u001B[38;5;132;01m{\u001B[39;00mfile\u001B[38;5;132;01m}\u001B[39;00m\u001B[38;5;124m by default \u001B[39m\u001B[38;5;124m\"\u001B[39m\n\u001B[0;32m    320\u001B[0m         \u001B[38;5;124m\"\u001B[39m\u001B[38;5;124mas it is likely to crash IPython. If you know what you are doing, \u001B[39m\u001B[38;5;124m\"\u001B[39m\n\u001B[0;32m    321\u001B[0m         \u001B[38;5;124m\"\u001B[39m\u001B[38;5;124myou can use builtins\u001B[39m\u001B[38;5;124m'\u001B[39m\u001B[38;5;124m open.\u001B[39m\u001B[38;5;124m\"\u001B[39m\n\u001B[0;32m    322\u001B[0m     )\n\u001B[1;32m--> 324\u001B[0m \u001B[38;5;28;01mreturn\u001B[39;00m \u001B[43mio_open\u001B[49m\u001B[43m(\u001B[49m\u001B[43mfile\u001B[49m\u001B[43m,\u001B[49m\u001B[43m \u001B[49m\u001B[38;5;241;43m*\u001B[39;49m\u001B[43margs\u001B[49m\u001B[43m,\u001B[49m\u001B[43m \u001B[49m\u001B[38;5;241;43m*\u001B[39;49m\u001B[38;5;241;43m*\u001B[39;49m\u001B[43mkwargs\u001B[49m\u001B[43m)\u001B[49m\n",
      "\u001B[1;31mFileNotFoundError\u001B[0m: [Errno 2] No such file or directory: 'thisFile.txt'"
     ]
    }
   ],
   "source": [
    "def raise_file_not_found_error():\n",
    "    with open(\"thisFile.txt\", \"r\") as file:\n",
    "        data = file.read()\n",
    "        return data\n",
    "    \n",
    "raise_file_not_found_error()"
   ]
  }
 ],
 "metadata": {
  "kernelspec": {
   "display_name": "Python 3",
   "language": "python",
   "name": "python3"
  },
  "language_info": {
   "codemirror_mode": {
    "name": "ipython",
    "version": 3
   },
   "file_extension": ".py",
   "mimetype": "text/x-python",
   "name": "python",
   "nbconvert_exporter": "python",
   "pygments_lexer": "ipython3",
   "version": "3.12.3"
  }
 },
 "nbformat": 4,
 "nbformat_minor": 2
}
