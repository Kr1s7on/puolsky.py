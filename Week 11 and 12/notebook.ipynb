{
 "cells": [
  {
   "cell_type": "markdown",
   "metadata": {},
   "source": [
    "## Week 11\n",
    "\n",
    "### Lists, Tuples and Dictionaries"
   ]
  },
  {
   "cell_type": "markdown",
   "metadata": {},
   "source": [
    "### Lists\n",
    "\n",
    "- An ordered seq of mutable Python objects."
   ]
  },
  {
   "cell_type": "code",
   "execution_count": 5,
   "metadata": {},
   "outputs": [
    {
     "name": "stdout",
     "output_type": "stream",
     "text": [
      "[1, 2, 3, 4, 5, 6, 7, 8, 9]\n",
      "['red', 'green', 'blue', 'yellow', 'white', 'black']\n",
      "[1, 'red', 2, 'green', 3, 'blue', 4, 'yellow', 5, 'white', 6, 'black']\n",
      "[]\n"
     ]
    }
   ],
   "source": [
    "numbers = [1, 2, 3, 4, 5, 6, 7, 8, 9]   # numbers list\n",
    "\n",
    "colors = ['red', 'green', 'blue', 'yellow', 'white', 'black']   # colors list\n",
    "\n",
    "mixed = [1, 'red', 2, 'green', 3, 'blue', 4, 'yellow', 5, 'white', 6, 'black']  # mixed list\n",
    "\n",
    "empty = []  # empty list\n",
    "\n",
    "print(numbers, colors, mixed, empty, sep='\\n') # print lists"
   ]
  },
  {
   "cell_type": "markdown",
   "metadata": {},
   "source": [
    "- Repetition Operator\n",
    "- Makes multiple copies of a list using ‘*’"
   ]
  },
  {
   "cell_type": "code",
   "execution_count": 4,
   "metadata": {},
   "outputs": [
    {
     "name": "stdout",
     "output_type": "stream",
     "text": [
      "[9, 9, 9] [1, 2, 3, 1, 2, 3, 1, 2, 3]\n"
     ]
    }
   ],
   "source": [
    "numbers = [9] * 3  # create a list with 3 elements, all equal to 9\n",
    "\n",
    "mixed = [1, 2, 3] * 3  # create a list with 9 elements, 3 each of 1, 2, and 3\n",
    "\n",
    "print(numbers, mixed)  # print list"
   ]
  },
  {
   "cell_type": "markdown",
   "metadata": {},
   "source": [
    "- List are mutable, we can change an element of a list using the index operator\n"
   ]
  },
  {
   "cell_type": "code",
   "execution_count": 6,
   "metadata": {},
   "outputs": [
    {
     "name": "stdout",
     "output_type": "stream",
     "text": [
      "January February March\n"
     ]
    }
   ],
   "source": [
    "months = ['January', 'February', 'March', 'April', 'May', 'June', 'July', 'August', 'September', 'October', 'November', 'December']  # months list\n",
    "\n",
    "print(months[0], months[1], months[2])  # print first three months, zero index based"
   ]
  },
  {
   "cell_type": "markdown",
   "metadata": {},
   "source": [
    "- Concatenate lists using '+'\n",
    "- Can only concatenate list with another lists. A TypeError occurs when you concatenate a list with a non-list."
   ]
  },
  {
   "cell_type": "code",
   "execution_count": 7,
   "metadata": {},
   "outputs": [
    {
     "name": "stdout",
     "output_type": "stream",
     "text": [
      "[1, 2, 3, 4, 5, 6, 7, 8, 9, 10]\n"
     ]
    }
   ],
   "source": [
    "a = [1, 2, 3, 4, 5, 6]  # list a\n",
    "\n",
    "b = [7, 8, 9, 10]  # list b\n",
    "\n",
    "c = a + b  # concatenate lists a and b\n",
    "\n",
    "print(c)  # print concatenated list"
   ]
  },
  {
   "cell_type": "markdown",
   "metadata": {},
   "source": [
    "- Len function to measure the length of Lists"
   ]
  },
  {
   "cell_type": "code",
   "execution_count": 8,
   "metadata": {},
   "outputs": [
    {
     "data": {
      "text/plain": [
       "12"
      ]
     },
     "execution_count": 8,
     "metadata": {},
     "output_type": "execute_result"
    }
   ],
   "source": [
    "months = ['January', 'February', 'March', 'April', 'May', 'June', 'July', 'August', 'September', 'October', 'November', 'December']  # months list\n",
    "\n",
    "len(months)  # length of months list"
   ]
  },
  {
   "cell_type": "markdown",
   "metadata": {},
   "source": [
    "- List Slicing\n",
    "- list[start : end] # exclude the end"
   ]
  },
  {
   "cell_type": "code",
   "execution_count": 10,
   "metadata": {},
   "outputs": [
    {
     "name": "stdout",
     "output_type": "stream",
     "text": [
      "['January', 'February', 'March']\n",
      "['January', 'February']\n",
      "['March', 'April', 'May', 'June', 'July', 'August', 'September', 'October', 'November', 'December']\n"
     ]
    }
   ],
   "source": [
    "months = ['January', 'February', 'March', 'April', 'May', 'June', 'July', 'August', 'September', 'October', 'November', 'December']  # months list\n",
    "\n",
    "print(months[0:3])  # print first three months\n",
    "\n",
    "print(months[:2])   # print first two months\n",
    "\n",
    "print(months[2:])   # print all months starting from the third month"
   ]
  },
  {
   "cell_type": "markdown",
   "metadata": {},
   "source": [
    "### List Exercise 1\n",
    "\n",
    "- Create a shopping list program that ask user for their item they want to\n",
    "add to their shopping list. The program will add these items into a list\n",
    "and display all these items when the user type quit."
   ]
  },
  {
   "cell_type": "code",
   "execution_count": 1,
   "metadata": {},
   "outputs": [
    {
     "name": "stdout",
     "output_type": "stream",
     "text": [
      "Your shopping list:\n",
      "['orange', 'mango', 'milk', 'water', 'apples']\n"
     ]
    }
   ],
   "source": [
    "# Initialising a list\n",
    "shopping_list = []\n",
    "\n",
    "# Adding elements to the list\n",
    "while True:\n",
    "    item = input(\"Please enter the item you want to add into the shopping list, (Type 'q' to stop)): \")\n",
    "\n",
    "    if item == 'q': # if user enters 'q', program ends\n",
    "        break\n",
    "\n",
    "    shopping_list.append(item)  # Add the item to the shopping list\n",
    "\n",
    "# Displaying the final shopping list\n",
    "print(f\"Your shopping list:\\n{shopping_list}\")"
   ]
  },
  {
   "cell_type": "markdown",
   "metadata": {},
   "source": [
    "### List Exercise 2\n",
    "\n",
    "- Design a program that ask the user to enter a series of 10 numbers. Using the functions available to List.\n",
    "    - The program should store the numbers in a list and then display the following data:\n",
    "    - The lowest number in the list\n",
    "    - The highest number in the list\n",
    "    - The sum of the numbers in the list\n",
    "    - The average of the numbers in the list\n",
    "\n",
    "- Flow:\n",
    "    - Ask for number (repeat 10 times)\n",
    "    - From list: display smallest, largest, sum, avg"
   ]
  },
  {
   "cell_type": "code",
   "execution_count": 4,
   "metadata": {},
   "outputs": [
    {
     "name": "stdout",
     "output_type": "stream",
     "text": [
      "The smallest number in the list is: 1\n",
      "The largest number in the list is: 89\n",
      "The sum of the numbers in the list is: 170\n",
      "The average of the numbers in the list is: 17.0\n"
     ]
    }
   ],
   "source": [
    "# Initialise empty list\n",
    "number_list = []\n",
    "\n",
    "# Loop 10 times\n",
    "for i in range(10):\n",
    "    while True:\n",
    "        try:\n",
    "            number = int(input(\"Please enter a number: \"))  # Get a number from the user\n",
    "            break\n",
    "        except ValueError:  # If the input is not a number\n",
    "            print(\"Invalid input. Please enter a valid number.\")\n",
    "\n",
    "    number_list.append(number)  # Add number to number_list\n",
    "\n",
    "# Display the smallest, largest, sum, and average\n",
    "print(f\"The smallest number in the list is: {min(number_list)}\")\n",
    "print(f\"The largest number in the list is: {max(number_list)}\")\n",
    "print(f\"The sum of the numbers in the list is: {sum(number_list)}\")\n",
    "print(f\"The average of the numbers in the list is: {sum(number_list)/len(number_list)}\")\n"
   ]
  },
  {
   "cell_type": "markdown",
   "metadata": {},
   "source": [
    "### Tuple\n",
    "\n",
    "- A tuple is a sequence of immutable Python objects.\n",
    "- Tuple methods and functions\n",
    "    - Returns the index of the first element whose value is equal to item.\n",
    "        - ```index(item) ```\n",
    "    - Count the number of occurrence of the item\n",
    "        - ```count(item)``` \n",
    "    - Returns the number of elements in list\n",
    "        - ```len(list)```"
   ]
  },
  {
   "cell_type": "code",
   "execution_count": 14,
   "metadata": {},
   "outputs": [
    {
     "name": "stdout",
     "output_type": "stream",
     "text": [
      "==== Days ====\n",
      "Items in the tuple: ('Monday', 'Tuesday', 'Wednesday', 'Thursday', 'Friday', 'Saturday', 'Sunday')\n",
      "Display the first item in the tuple: Monday\n",
      "Display number of items in the tuple: 7\n",
      "==============\n",
      "\n",
      "==== Data ====\n",
      "Items in the data tuple: (1, 2, 3, ('a', 'b', 'c', 'd', 'e'), 5)\n",
      "Display the first item: 1\n",
      "Number of items in data: 5\n",
      "==============\n"
     ]
    }
   ],
   "source": [
    "days = ('Monday', 'Tuesday', 'Wednesday', 'Thursday', 'Friday', 'Saturday', 'Sunday')  # days tuple\n",
    "\n",
    "print(\"==== Days ====\")\n",
    "print(f\"Items in the tuple: {days}\")  # print tuple\n",
    "print(f\"Display the first item in the tuple: {days[0]}\")  # print first item in the tuple\n",
    "print(f\"Display number of items in the tuple: {len(days)}\")  # print number of items in the tuple\n",
    "print(\"==============\\n\")\n",
    "\n",
    "\n",
    "data = (1, 2, 3, ('a','b','c','d','e'), 5)  # data tuple\n",
    "\n",
    "print(\"==== Data ====\")\n",
    "print(f\"Items in the data tuple: {data}\")  # print tuple\n",
    "print(f\"Display the first item: {data[0]}\")  # print first item in the tuple\n",
    "print(f\"Number of items in data: {len(data)}\") # print number of items in the tuple using len()\n",
    "print(\"==============\")"
   ]
  },
  {
   "cell_type": "markdown",
   "metadata": {},
   "source": [
    "- List to Tuple Conversion\n",
    "    - Convert a tuple to a list\n",
    "        - ```list(tuple)```\n",
    "    - Convert a list to a tuple\n",
    "        - ```tuple(list)```"
   ]
  },
  {
   "cell_type": "code",
   "execution_count": 17,
   "metadata": {},
   "outputs": [
    {
     "name": "stdout",
     "output_type": "stream",
     "text": [
      "(1, 2, 3)\n",
      "['1', '2', '3']\n"
     ]
    }
   ],
   "source": [
    "list1 = [1, 2, 3]\n",
    "tuple1 = tuple(list1)\n",
    "print(tuple1)\n",
    "\n",
    "tuple2 = ('1', '2', '3')\n",
    "list2 = list(tuple2)\n",
    "print(list2)"
   ]
  },
  {
   "cell_type": "markdown",
   "metadata": {},
   "source": [
    "### Dictionary\n",
    "\n",
    "- A dictionary is a an unordered sequence of key value pairs."
   ]
  },
  {
   "cell_type": "markdown",
   "metadata": {},
   "source": [
    "### Dictionary Exercise 1"
   ]
  },
  {
   "cell_type": "code",
   "execution_count": 22,
   "metadata": {},
   "outputs": [
    {
     "name": "stdout",
     "output_type": "stream",
     "text": [
      "John's grade is: 60\n"
     ]
    }
   ],
   "source": [
    "# Exam Results Dictionary\n",
    "exam_results = {'Jane': 75, 'John': 60, 'Jerome': 81, 'Jason': 55, 'Jessica': 62, 'Joanne': 52}\n",
    "\n",
    "# User input\n",
    "student_name = str(input(\"Please enter the name of the student: \"))\n",
    "\n",
    "# Print grades\n",
    "if exam_results.get(student_name):\n",
    "    grade = exam_results[student_name]\n",
    "    print(f\"{student_name}'s grade is: {grade}\")\n",
    "else:\n",
    "    print(\"Error: Student not found.\")"
   ]
  },
  {
   "cell_type": "markdown",
   "metadata": {},
   "source": [
    "### Dictionary Exercise 2"
   ]
  },
  {
   "cell_type": "code",
   "execution_count": 7,
   "metadata": {},
   "outputs": [
    {
     "name": "stdout",
     "output_type": "stream",
     "text": [
      "Results of Jane\n",
      "================\n",
      "English:  75\n",
      "Math:  80\n",
      "Science:  85\n"
     ]
    }
   ],
   "source": [
    "# Exam Results List\n",
    "exam_results = [\n",
    "    ['Jane', [75, 80, 85]],\n",
    "    ['John', [60, 68, 74]],\n",
    "    ['Jerome', [81, 63, 77]],\n",
    "    ['Jason', [55, 76, 67]],\n",
    "    ['Jessica', [62, 45, 68]],\n",
    "    ['Joanne', [52, 47, 51]]\n",
    "]\n",
    "\n",
    "# User input\n",
    "student_name = input(\"Enter student name: \")\n",
    "\n",
    "# Print grades\n",
    "for student in exam_results:\n",
    "    if student[0] == student_name:\n",
    "        grades = student[1]\n",
    "        print(f\"Results of {student_name}\\n================\")\n",
    "        print(\"English: \", grades[0])\n",
    "        print(\"Math: \", grades[1])\n",
    "        print(\"Science: \", grades[2])\n",
    "        break\n",
    "else:\n",
    "    print(\"Error: Student not found.\")"
   ]
  },
  {
   "cell_type": "markdown",
   "metadata": {},
   "source": [
    "## Week 12\n",
    "\n",
    "### Module Recap"
   ]
  },
  {
   "cell_type": "markdown",
   "metadata": {},
   "source": [
    "### if.....elif.....else"
   ]
  },
  {
   "cell_type": "markdown",
   "metadata": {},
   "source": [
    "#### Exercise 1\n",
    "- Create a simple program to ask user for 2 digit.\n",
    "- After that the program will compare the 2 numbers and declare if one is greater then the other or are they equal."
   ]
  },
  {
   "cell_type": "code",
   "execution_count": 2,
   "metadata": {},
   "outputs": [
    {
     "name": "stdout",
     "output_type": "stream",
     "text": [
      "The two numbers are equal.\n"
     ]
    }
   ],
   "source": [
    "# User Inputs\n",
    "digit_one = int(input(\"Please enter the first number: \"))\n",
    "digit_two = int(input(\"Please enter the second number: \"))\n",
    "\n",
    "# Comparing the two numbers\n",
    "if digit_one > digit_two:\n",
    "    print(\"The first number is bigger than the second number.\")\n",
    "elif digit_two > digit_one:\n",
    "    print(\"The second number is bigger than the first number.\")\n",
    "else:\n",
    "    print(\"The two numbers are equal.\")\n"
   ]
  },
  {
   "cell_type": "markdown",
   "metadata": {},
   "source": [
    "#### Exercise 2\n",
    "\n",
    "- Create a simple program to ask user for a digit.\n",
    "- The system will check if the number is 0 before determining if the number is even or odd and display on screen."
   ]
  },
  {
   "cell_type": "code",
   "execution_count": 6,
   "metadata": {},
   "outputs": [
    {
     "name": "stdout",
     "output_type": "stream",
     "text": [
      "The number entered is an odd number!\n"
     ]
    }
   ],
   "source": [
    "# User Input\n",
    "number = int(input(\"Please enter a number: \"))\n",
    "\n",
    "# Check if number = 0\n",
    "if number == 0:\n",
    "    print(\"The number is zero!\")\n",
    "# If number is not 0\n",
    "else:\n",
    "    # If number is even\n",
    "    if number % 2 == 0:\n",
    "        print(\"The number entered is an even number!\")\n",
    "    # IF not even then it is odd\n",
    "    else:\n",
    "        print(\"The number entered is an odd number!\")\n"
   ]
  },
  {
   "cell_type": "markdown",
   "metadata": {},
   "source": [
    "### For, While Loop"
   ]
  },
  {
   "cell_type": "markdown",
   "metadata": {},
   "source": [
    "#### Exercise 3\n",
    "\n",
    "- Create a simple program to ask user for a digit,\n",
    "- The system will check if the number is 0 before determining if the number is even or odd and display on screen. This will continue until the user enter the word “quit”"
   ]
  },
  {
   "cell_type": "code",
   "execution_count": 27,
   "metadata": {},
   "outputs": [
    {
     "name": "stdout",
     "output_type": "stream",
     "text": [
      "The number entered is an even number!\n",
      "The number entered is an odd number!\n",
      "The number is zero!\n"
     ]
    }
   ],
   "source": [
    "while True:\n",
    "    # User Input\n",
    "    number = int(input(\"Please enter a number ('999' to stop): \"))\n",
    "\n",
    "    if number == 999:\n",
    "        break\n",
    "    # Check if number = 0\n",
    "    elif number == 0:\n",
    "        print(\"The number is zero!\")\n",
    "    # If number is not 0\n",
    "    else:\n",
    "        # If number is even\n",
    "        if number % 2 == 0:\n",
    "            print(\"The number entered is an even number!\")\n",
    "        # If not even then it is odd\n",
    "        else:\n",
    "            print(\"The number entered is an odd number!\")\n"
   ]
  },
  {
   "cell_type": "markdown",
   "metadata": {},
   "source": [
    "#### Exercise 4\n",
    "\n",
    "- Create a program that will ask the user for the number of iteration that the system will print the ‘*’ symbol."
   ]
  },
  {
   "cell_type": "code",
   "execution_count": 30,
   "metadata": {},
   "outputs": [
    {
     "name": "stdout",
     "output_type": "stream",
     "text": [
      "*\n",
      "**\n",
      "***\n",
      "****\n",
      "*****\n",
      "******\n"
     ]
    }
   ],
   "source": [
    "# User Input\n",
    "iterations = int(input(\"Please enter the number of iterations: \"))\n",
    "\n",
    "# Loop for the number of iterations\n",
    "astk = \"*\"\n",
    "for i in range(iterations):\n",
    "    print(astk)\n",
    "    astk += \"*\" #Increment the * by 1\n"
   ]
  },
  {
   "cell_type": "markdown",
   "metadata": {},
   "source": [
    "#### Exercise 5\n",
    "\n",
    "- Create a program to calculate the amount spent and the budget left.\n",
    "- At the start of the program, it will ask the user to enter the total budget amount the user have.\n",
    "- Next it will ask for the purchase item and its price.\n",
    "- Next the amount spent will be deducted until there is in-sufficient amount to deduct for the items."
   ]
  },
  {
   "cell_type": "code",
   "execution_count": 31,
   "metadata": {},
   "outputs": [
    {
     "name": "stdout",
     "output_type": "stream",
     "text": [
      "Insufficient budget to purchase bread at $2.0\n"
     ]
    }
   ],
   "source": [
    "# User Inputs\n",
    "total_budget = float(input(\"Please enter the budget available: $\"))\n",
    "\n",
    "# Loop for the number of inputs\n",
    "while total_budget >= 0:\n",
    "    item_purchased = str(input(\"Please enter the item purchased: \"))\n",
    "    amount_spent = float(input(f\"Please enter the amount spent for {item_purchased}: $\"))\n",
    "    total_budget -= amount_spent\n",
    "else:\n",
    "    print(f\"Insufficient budget to purchase {item_purchased} at ${amount_spent}\")"
   ]
  },
  {
   "cell_type": "markdown",
   "metadata": {},
   "source": [
    "### List"
   ]
  },
  {
   "cell_type": "markdown",
   "metadata": {},
   "source": [
    "#### Exercise 6\n",
    "\n",
    "- Create a program that remove the remove all duplicate elements in the list.\n",
    "- Constraints:\n",
    "    - Do not use any built-in Python functions or methods that would solve this problem directly."
   ]
  },
  {
   "cell_type": "code",
   "execution_count": 33,
   "metadata": {},
   "outputs": [
    {
     "name": "stdout",
     "output_type": "stream",
     "text": [
      "[1, 2, 3, 4, 5, 6, 7, 8, 9]\n"
     ]
    }
   ],
   "source": [
    "input_list = [1, 2, 2, 3, 4, 4, 5, 5, 6, 7, 7, 8, 9, 9]\n",
    "\n",
    "# Remove duplicates\n",
    "output_list = []\n",
    "# Loop through the input list\n",
    "for i in input_list:\n",
    "    # If the item is not in the output list, add it\n",
    "    if i not in output_list:\n",
    "        output_list.append(i)\n",
    "\n",
    "print(output_list)\n"
   ]
  },
  {
   "cell_type": "markdown",
   "metadata": {},
   "source": [
    "### Tuple"
   ]
  },
  {
   "cell_type": "markdown",
   "metadata": {},
   "source": [
    "#### Exercise 7\n",
    "\n",
    "- Develop a part of the order management system.\n",
    "- Menu has various items and each represented by a tuple with two elements: \n",
    "    - Name of item as a string, price as a float. \n",
    "    - Order is also represented by a tuple with two elements, the item name and the quantity of that item in the order."
   ]
  },
  {
   "cell_type": "code",
   "execution_count": 2,
   "metadata": {},
   "outputs": [
    {
     "name": "stdout",
     "output_type": "stream",
     "text": [
      "The toal cost is: $19.44\n"
     ]
    }
   ],
   "source": [
    "menu = ((\"Burger\", 4.99), (\"Fries\", 2.49), (\"Drink\", 1.99))\n",
    "order = ((\"Burger\", 2), (\"Fries\", 3), (\"Drink\", 1))\n",
    "\n",
    "# Set total to 0\n",
    "total = 0\n",
    "\n",
    "# Calculate total\n",
    "for item in order:\n",
    "    for menu_item in menu:\n",
    "        if item[0] == menu_item[0]:\n",
    "            total += menu_item[1] * item[1]\n",
    "\n",
    "print(f\"The toal cost is: ${total:.2f}\")"
   ]
  },
  {
   "cell_type": "markdown",
   "metadata": {},
   "source": [
    "### Dictionary"
   ]
  },
  {
   "cell_type": "markdown",
   "metadata": {},
   "source": [
    "#### Exercise 8"
   ]
  },
  {
   "cell_type": "code",
   "execution_count": null,
   "metadata": {},
   "outputs": [],
   "source": [
    "# Existing inventory\n",
    "inventory = {\n",
    "\"001\": 19.99,\n",
    "\"002\": 25.50,\n",
    "\"003\": 12.99\n",
    "}\n",
    "\n",
    "#  User inputs\n",
    "book_id = int(input(\"Please enter the book ID: \"))\n",
    "discount = float(input(\"Please enter the discount as a decimal (e.g. 0.15 for 15%): \"))\n",
    "\n",
    "# Calculate the new price\n",
    "updated_inventory = {}\n",
    "\n",
    "\n",
    "# Print Statement\n",
    "print(updated_inventory)"
   ]
  },
  {
   "cell_type": "markdown",
   "metadata": {},
   "source": [
    "### Extra Practical"
   ]
  },
  {
   "cell_type": "markdown",
   "metadata": {},
   "source": [
    "Exercise 8\n",
    "You are a software developer for a large bookstore. Each book in the store has a unique ID and an associate\n",
    "price. The bookstore keeps track of its inventory with dictionary, where each key-value pair represents a book\n",
    "and its price.\n",
    "The program should apply the discount to the specified book and return the updated inventory dictionary.\n",
    "Add the following code to your program:\n",
    "\n",
    "Sample Output:\n",
    "    Please enter the book ID: 001\n",
    "    Please enter the discount as a decimal (e.g. 0.15 for 15%): 0.15\n",
    "    ('001': 16.99, '002': 25.50, '003': 12.99)\n",
    "\n",
    "    Please enter the book ID: 004\n",
    "    Please enter the discount as a decimal (e.g. 0.15 for 15%): 0.20\n",
    "    No book with ID 004 found in the inventory.\n",
    "    ('001': 19.99, '002': 25.50, '003': 12.99)\n",
    "\n",
    "Existing inventory\n",
    "inventory = {\n",
    "\"001\": 19.99,\n",
    "\"002\": 25.50,\n",
    "\"003\": 12.99\n",
    "}"
   ]
  }
 ],
 "metadata": {
  "kernelspec": {
   "display_name": "Python 3",
   "language": "python",
   "name": "python3"
  },
  "language_info": {
   "codemirror_mode": {
    "name": "ipython",
    "version": 3
   },
   "file_extension": ".py",
   "mimetype": "text/x-python",
   "name": "python",
   "nbconvert_exporter": "python",
   "pygments_lexer": "ipython3",
   "version": "3.12.3"
  }
 },
 "nbformat": 4,
 "nbformat_minor": 2
}
